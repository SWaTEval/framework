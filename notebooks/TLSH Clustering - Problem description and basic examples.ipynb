{
 "cells": [
  {
   "cell_type": "code",
   "execution_count": 1,
   "id": "45001caf-7f69-4143-971d-70852bd10890",
   "metadata": {},
   "outputs": [],
   "source": [
    "import pandas as pd\n",
    "from numpy import nan\n",
    "import tlsh\n",
    "import numpy as np\n",
    "import matplotlib.pyplot as plt\n",
    "import time"
   ]
  },
  {
   "cell_type": "code",
   "execution_count": 2,
   "id": "caf2c927-b2ac-4470-acff-3a751461f582",
   "metadata": {},
   "outputs": [],
   "source": [
    "import sys; sys.path.insert(0, '..') # Allow relative imports\n",
    "\n",
    "from scanner.Detection.ClusteringBased.Clustering.DBSCANClustering import DBSCANClustering\n",
    "from scanner.Detection.ClusteringBased.Clustering.KMedoidsClustering import KMedoidsClustering\n",
    "from scanner.Detection.ClusteringBased.Clustering.OPTICSClustering import OPTICSClustering\n",
    "from scanner.Utilities.Util import random_string\n",
    "from scanner.Utilities.Distance import Distance"
   ]
  },
  {
   "cell_type": "markdown",
   "id": "5914e069-a019-4ad1-9dad-cce4ebbacec1",
   "metadata": {},
   "source": [
    "# TLSH Caveat"
   ]
  },
  {
   "cell_type": "code",
   "execution_count": 3,
   "id": "5663ae30-3d23-493c-b6d9-5d00f4d15d58",
   "metadata": {},
   "outputs": [],
   "source": [
    "data = \"test\""
   ]
  },
  {
   "cell_type": "code",
   "execution_count": 4,
   "id": "30b5b8e9-0b38-43fb-86eb-d149bd185352",
   "metadata": {},
   "outputs": [
    {
     "name": "stdout",
     "output_type": "stream",
     "text": [
      "Data:  test\n",
      "Padding:  \n",
      "Hash: TNULL\n"
     ]
    }
   ],
   "source": [
    "# No padding and not enough data\n",
    "padding_length = 0\n",
    "padding = padding_length * \"*\"\n",
    "for_hashing = padding + data\n",
    "\n",
    "tlsh_hash = tlsh.hash(for_hashing.encode())\n",
    "print(\"Data: \", data)\n",
    "print(\"Padding: \", padding)\n",
    "print(\"Hash:\", tlsh_hash)"
   ]
  },
  {
   "cell_type": "code",
   "execution_count": 5,
   "id": "5d8c0d64-b5b2-4ce5-8315-d62026dbc09d",
   "metadata": {},
   "outputs": [
    {
     "name": "stdout",
     "output_type": "stream",
     "text": [
      "Data:  test\n",
      "Padding:  **************************************************\n",
      "Hash: TNULL\n"
     ]
    }
   ],
   "source": [
    "# With padding but too similar data\n",
    "padding_length = 50\n",
    "padding = padding_length * \"*\"\n",
    "for_hashing = padding + data\n",
    "\n",
    "tlsh_hash = tlsh.hash(for_hashing.encode())\n",
    "print(\"Data: \", data)\n",
    "print(\"Padding: \", padding)\n",
    "print(\"Hash:\", tlsh_hash)"
   ]
  },
  {
   "cell_type": "code",
   "execution_count": 6,
   "id": "d4ab0c75-c5c4-4e55-adc8-fa3ba4d4cb99",
   "metadata": {},
   "outputs": [
    {
     "name": "stdout",
     "output_type": "stream",
     "text": [
      "Data:  test\n",
      "Padding:  7KKWAI1LOB41VFT1W44SOYXYXQQL0QGIN8BZNLSBP4WJB2PEGK\n",
      "Hash: T1369002B666D265502166A031F1800D555861801255505569135854517050866217E974\n"
     ]
    }
   ],
   "source": [
    "# Solution: Padding is random generated string\n",
    "\n",
    "padding = random_string(padding_length)\n",
    "for_hashing = padding + data\n",
    "\n",
    "tlsh_hash = tlsh.hash(for_hashing.encode())\n",
    "print(\"Data: \", data)\n",
    "print(\"Padding: \", padding)\n",
    "print(\"Hash:\", tlsh_hash)"
   ]
  },
  {
   "cell_type": "markdown",
   "id": "9ea85a03-d584-49bc-a400-16dbea0f69c5",
   "metadata": {},
   "source": [
    "# Distance calculation"
   ]
  },
  {
   "cell_type": "code",
   "execution_count": 7,
   "id": "bc1904ea-4051-4845-b603-04d8129219c5",
   "metadata": {},
   "outputs": [],
   "source": [
    "padding = random_string(padding_length)"
   ]
  },
  {
   "cell_type": "code",
   "execution_count": 8,
   "id": "eaf34095-0f17-4d45-9212-ac7b74de663b",
   "metadata": {},
   "outputs": [],
   "source": [
    "default_distance_type = \"tlsh\""
   ]
  },
  {
   "cell_type": "code",
   "execution_count": 9,
   "id": "f23de759-e02e-43c3-9fba-13ab0481ec73",
   "metadata": {},
   "outputs": [
    {
     "name": "stdout",
     "output_type": "stream",
     "text": [
      "Hash 1: T16690026514455DC0351A6BA027675BE6214590801A2D1E65804983C90942964D486142\n",
      "Hash 2: T15D90025414056E80351A67A0236B5BA6214590811A2D1E65404DC3C509429659586152\n",
      "Distance: 20\n"
     ]
    }
   ],
   "source": [
    "hash_1 = tlsh.hash((\"test\" + padding).encode())\n",
    "hash_2 = tlsh.hash((\"test2\" + padding).encode())\n",
    "distance = Distance().calculate(hash_1, hash_2, default_distance_type)\n",
    "\n",
    "print(\"Hash 1:\", hash_1)\n",
    "print(\"Hash 2:\", hash_2)\n",
    "print(\"Distance:\",distance)"
   ]
  },
  {
   "cell_type": "code",
   "execution_count": 10,
   "id": "8a5f2bc9-873b-4f13-aa8a-a03294449f72",
   "metadata": {},
   "outputs": [
    {
     "name": "stdout",
     "output_type": "stream",
     "text": [
      "Hash 3: T14CA0244401055C40371D135033130FF5300FD040173D3F311005C3C005C1D50C0C50C5\n",
      "Distance: 99\n"
     ]
    }
   ],
   "source": [
    "hash_3 = tlsh.hash((padding + \"something completely different\").encode())\n",
    "distance = Distance().calculate(hash_1, hash_3, default_distance_type)\n",
    "print(\"Hash 3:\", hash_3)\n",
    "print(\"Distance:\",distance)"
   ]
  },
  {
   "cell_type": "code",
   "execution_count": 11,
   "id": "f6330e3f-64e5-476a-8a6a-2cb4628e684e",
   "metadata": {},
   "outputs": [],
   "source": [
    "hash_4 = tlsh.hash((padding + \"lets add another cluster\").encode())"
   ]
  },
  {
   "cell_type": "markdown",
   "id": "f0348295-0b00-4f69-bf73-7b00c171080f",
   "metadata": {},
   "source": [
    "# Create a dummy dataset"
   ]
  },
  {
   "cell_type": "code",
   "execution_count": 12,
   "id": "99d8aaaa-d9ed-4c0b-a26e-1854c1676cfe",
   "metadata": {},
   "outputs": [],
   "source": [
    "def create_dummy_dataset(hashes, labels):\n",
    "    dataset = []\n",
    "    for idx, tlsh_hash in enumerate(hashes):\n",
    "        dataset.append({\"hash\":tlsh_hash, \"label\":labels[idx]})\n",
    "    return dataset"
   ]
  },
  {
   "cell_type": "code",
   "execution_count": 13,
   "id": "eccbfb60-2306-44dc-8542-8e6dbef086e4",
   "metadata": {},
   "outputs": [],
   "source": [
    "hashes = []\n",
    "labels = []\n",
    "\n",
    "hashes.append(hash_1)\n",
    "labels.append(0)\n",
    "\n",
    "hashes.append(hash_2)\n",
    "labels.append(0)\n",
    "\n",
    "hashes.append(hash_3)\n",
    "labels.append(1)\n",
    "\n",
    "hashes.append(hash_4)\n",
    "labels.append(2)\n",
    "\n",
    "dataset = create_dummy_dataset(hashes, labels)"
   ]
  },
  {
   "cell_type": "code",
   "execution_count": 14,
   "id": "093f8df0-816b-47eb-9504-6fd0301355e3",
   "metadata": {},
   "outputs": [
    {
     "name": "stderr",
     "output_type": "stream",
     "text": [
      "100%|██████████████████████████████████████████| 4/4 [00:00<00:00, 29799.67it/s]\n"
     ]
    },
    {
     "data": {
      "text/html": [
       "<div>\n",
       "<style scoped>\n",
       "    .dataframe tbody tr th:only-of-type {\n",
       "        vertical-align: middle;\n",
       "    }\n",
       "\n",
       "    .dataframe tbody tr th {\n",
       "        vertical-align: top;\n",
       "    }\n",
       "\n",
       "    .dataframe thead th {\n",
       "        text-align: right;\n",
       "    }\n",
       "</style>\n",
       "<table border=\"1\" class=\"dataframe\">\n",
       "  <thead>\n",
       "    <tr style=\"text-align: right;\">\n",
       "      <th></th>\n",
       "      <th>0</th>\n",
       "      <th>1</th>\n",
       "      <th>2</th>\n",
       "      <th>3</th>\n",
       "    </tr>\n",
       "  </thead>\n",
       "  <tbody>\n",
       "    <tr>\n",
       "      <th>0</th>\n",
       "      <td>0</td>\n",
       "      <td>20</td>\n",
       "      <td>99</td>\n",
       "      <td>86</td>\n",
       "    </tr>\n",
       "    <tr>\n",
       "      <th>1</th>\n",
       "      <td>20</td>\n",
       "      <td>0</td>\n",
       "      <td>100</td>\n",
       "      <td>91</td>\n",
       "    </tr>\n",
       "    <tr>\n",
       "      <th>2</th>\n",
       "      <td>99</td>\n",
       "      <td>100</td>\n",
       "      <td>0</td>\n",
       "      <td>135</td>\n",
       "    </tr>\n",
       "    <tr>\n",
       "      <th>3</th>\n",
       "      <td>86</td>\n",
       "      <td>91</td>\n",
       "      <td>135</td>\n",
       "      <td>0</td>\n",
       "    </tr>\n",
       "  </tbody>\n",
       "</table>\n",
       "</div>"
      ],
      "text/plain": [
       "    0    1    2    3\n",
       "0   0   20   99   86\n",
       "1  20    0  100   91\n",
       "2  99  100    0  135\n",
       "3  86   91  135    0"
      ]
     },
     "execution_count": 14,
     "metadata": {},
     "output_type": "execute_result"
    }
   ],
   "source": [
    "from scanner.Utilities.Distance import Distance\n",
    "import seaborn as sns\n",
    "\n",
    "distance_matrix = Distance.generate_distance_matrix(dataset, field_for_index=None, distance_type=default_distance_type)\n",
    "distance_matrix.head()"
   ]
  },
  {
   "cell_type": "code",
   "execution_count": 15,
   "id": "a1f3efe8-d729-47bd-a6bc-ac1fbbd7181e",
   "metadata": {},
   "outputs": [
    {
     "data": {
      "text/plain": [
       "<AxesSubplot:>"
      ]
     },
     "execution_count": 15,
     "metadata": {},
     "output_type": "execute_result"
    },
    {
     "data": {
      "image/png": "[encoded data removed]",
      "text/plain": [
       "<Figure size 432x288 with 2 Axes>"
      ]
     },
     "metadata": {
      "needs_background": "light"
     },
     "output_type": "display_data"
    }
   ],
   "source": [
    "plt.figure()\n",
    "sns.heatmap(distance_matrix, linewidth=0.1, cmap=\"YlGnBu\")"
   ]
  },
  {
   "cell_type": "markdown",
   "id": "14e37f2b-e6b5-4e34-b0aa-558594c8bb59",
   "metadata": {},
   "source": [
    "# Clustering"
   ]
  },
  {
   "cell_type": "markdown",
   "id": "69e5598b-6be8-4839-86e3-8abcc4ae84bc",
   "metadata": {},
   "source": [
    "### DBSCAN short example"
   ]
  },
  {
   "cell_type": "code",
   "execution_count": 16,
   "id": "1c2e5f76-b327-481a-9f17-50d1ae8a2151",
   "metadata": {},
   "outputs": [
    {
     "name": "stderr",
     "output_type": "stream",
     "text": [
      "100%|██████████████████████████████████████████| 4/4 [00:00<00:00, 30393.51it/s]"
     ]
    },
    {
     "name": "stdout",
     "output_type": "stream",
     "text": [
      "Cluster count: 3\n",
      "Hash T16690026514455DC0351A6BA027675BE6214590801A2D1E65804983C90942964D486142 clustered in label: 0 actual: 0\n",
      "Hash T15D90025414056E80351A67A0236B5BA6214590811A2D1E65404DC3C509429659586152 clustered in label: 0 actual: 0\n",
      "Hash T14CA0244401055C40371D135033130FF5300FD040173D3F311005C3C005C1D50C0C50C5 clustered in label: 1 actual: 1\n",
      "Hash T1F6A022BC02023CC23C2AF3B023338BF3200080822B3C0FBA800883C80803C30B082002 clustered in label: 2 actual: 2\n"
     ]
    },
    {
     "name": "stderr",
     "output_type": "stream",
     "text": [
      "\n"
     ]
    }
   ],
   "source": [
    "dbscan = DBSCANClustering()\n",
    "cluster_count, cluster_labels = dbscan.cluster(dataset, field_for_index=None, distance_type=default_distance_type)\n",
    "\n",
    "print(\"Cluster count:\", cluster_count)\n",
    "for idx, item in enumerate(hashes):\n",
    "    print(\"Hash\", item, \"clustered in label:\", cluster_labels[idx], \"actual:\", labels[idx])"
   ]
  },
  {
   "cell_type": "markdown",
   "id": "185721dc-a8f7-4ea1-9104-51be31be1eb7",
   "metadata": {},
   "source": [
    "# Clustering Performance"
   ]
  },
  {
   "cell_type": "code",
   "execution_count": 17,
   "id": "9be3b39b-2e5e-45ab-bfe1-f717b84e3fc7",
   "metadata": {},
   "outputs": [],
   "source": [
    "from dataclasses import dataclass\n",
    "from dataclasses_json import dataclass_json\n",
    "\n",
    "@dataclass_json\n",
    "@dataclass\n",
    "class ClusteringResult:\n",
    "    method: str\n",
    "    parameter: str\n",
    "    value: any\n",
    "    similarity_metric: str\n",
    "    clusters: int\n",
    "    \n",
    "    def __lt__(self, other):\n",
    "         return self.clusters < other.clusters\n",
    "\n",
    "def print_results(results:[ClusteringResult], actual_cluster_count):\n",
    "    print(\"Actual cluster count:\", actual_cluster_count)\n",
    "    results_as_dicts = [result.to_dict() for result in results]\n",
    "    \n",
    "    custom_columns = [\"Clustering method\", \"Optimized parameter\", \"Optimization type\", \"Similarity Metric\", \"Clusters detected\"]\n",
    "    df = pd.DataFrame(results_as_dicts)\n",
    "    df.columns = custom_columns\n",
    "    display(df.style)\n",
    "    \n",
    "overal_results: [ClusteringResult] = []"
   ]
  },
  {
   "cell_type": "markdown",
   "id": "4f153267-4b0e-4187-b46a-84806bc135d2",
   "metadata": {},
   "source": [
    "Idea: Generate cluster seeds i.e. clusters. Afterwards extend each seed with a random data with random lenght (i.e. create dispersed samples around the cluster seed). \n",
    "\n",
    "This function generates mock data similar to the one which our crawler should be generating. This however doesn't corresponds 100% to the reality. The caveat here is the random data appended to the cluster seed and it's length. Those parameters affect how good our clustering algorithms are going to detect the separate clusters. Samples generated too far from the cluster seed could actually on the boundry between two clusters, in the region of another cluster or just be too far from all other points and create a cluster on its own (i.e. outliers are not excluded). We use this example only for simple benchmarking and PoC."
   ]
  },
  {
   "cell_type": "code",
   "execution_count": 18,
   "id": "200dadd9-b88d-4ad1-bcf6-7c6f5b66ce88",
   "metadata": {},
   "outputs": [],
   "source": [
    "import random\n",
    "\n",
    "def generate_random_clusters(cluster_count, datapoints_count):\n",
    "    cluster_seeds = []\n",
    "\n",
    "    for cluster in range(cluster_count):\n",
    "        cluster_seeds.append(random_string(200))\n",
    "    \n",
    "    dataset = None\n",
    "    if datapoints_count >= cluster_count:\n",
    "        hashes = []\n",
    "        labels = []\n",
    "        for idx in range(datapoints_count):\n",
    "            seed = random.choice(cluster_seeds)\n",
    "            random_str_length = random.randint(0,5)\n",
    "            datapoint_data = random_string(random_str_length)\n",
    "            datapoint_hash = tlsh.hash((datapoint_data + seed).encode())\n",
    "            hashes.append(datapoint_hash)\n",
    "            labels.append(cluster_seeds.index(seed))\n",
    "        dataset = create_dummy_dataset(hashes, labels)\n",
    "    \n",
    "    return dataset"
   ]
  },
  {
   "cell_type": "markdown",
   "id": "2c6f4fa4-e765-4458-a184-d7829d5353c3",
   "metadata": {},
   "source": [
    "# Generate data and plot it"
   ]
  },
  {
   "cell_type": "code",
   "execution_count": 19,
   "id": "4390870e-384e-4f37-a435-c5ad95010564",
   "metadata": {},
   "outputs": [],
   "source": [
    "target_cluster_count = 10\n",
    "target_datapoints = 100\n",
    "dataset = generate_random_clusters(cluster_count=target_cluster_count, datapoints_count=target_datapoints)"
   ]
  },
  {
   "cell_type": "code",
   "execution_count": 20,
   "id": "7dda08ab-a6c1-4116-a8e6-806e8fb23ff8",
   "metadata": {},
   "outputs": [
    {
     "name": "stderr",
     "output_type": "stream",
     "text": [
      "100%|███████████████████████████████████████| 100/100 [00:00<00:00, 4357.76it/s]\n"
     ]
    }
   ],
   "source": [
    "distance_matrix = Distance.generate_distance_matrix(dataset, field_for_index=None, distance_type=default_distance_type)"
   ]
  },
  {
   "cell_type": "markdown",
   "id": "cd5e64fe-a2e5-4c81-afda-a1092c1989d5",
   "metadata": {},
   "source": [
    "### Note: 2d scatter plot is directly not possible\n",
    "\n",
    "We don't have the exact sample coordinates, but only their distances. This is also the reason why we use the upcoming algorithms.\n",
    "They can be directly utilized with a precomputed distance matrix, which we already have. For the others, the exact x and y coordinates are needed. \n",
    "Given the nature of our problem, the x and y coordinates of the samples are ambiguous (string distance), but there is a method to calculate them. \n",
    "A simple google search leads to a solution which still has to be explored: https://math.stackexchange.com/questions/156161/finding-the-coordinates-of-points-from-distance-matrix\n"
   ]
  },
  {
   "cell_type": "code",
   "execution_count": 21,
   "id": "136bd74d-a356-4cd4-af7e-151298ae7727",
   "metadata": {},
   "outputs": [
    {
     "data": {
      "text/plain": [
       "<AxesSubplot:>"
      ]
     },
     "execution_count": 21,
     "metadata": {},
     "output_type": "execute_result"
    },
    {
     "data": {
      "image/png": "[encoded data removed]",
      "text/plain": [
       "<Figure size 1080x720 with 2 Axes>"
      ]
     },
     "metadata": {},
     "output_type": "display_data"
    }
   ],
   "source": [
    "sns.set(rc={'figure.figsize':(15,10)})\n",
    "sns.heatmap(distance_matrix, cmap=\"YlGnBu\")"
   ]
  },
  {
   "cell_type": "markdown",
   "id": "5fdfe2b3-6090-4928-98b1-eadbf6829f35",
   "metadata": {},
   "source": [
    "### DBSCAN with differen methods for eps estimation"
   ]
  },
  {
   "cell_type": "code",
   "execution_count": 22,
   "id": "57a219fc-0a2c-4fed-a393-56660fa76a39",
   "metadata": {},
   "outputs": [
    {
     "name": "stderr",
     "output_type": "stream",
     "text": [
      "100%|███████████████████████████████████████| 100/100 [00:00<00:00, 3595.08it/s]\n",
      "100%|███████████████████████████████████████| 100/100 [00:00<00:00, 3576.56it/s]\n",
      "100%|███████████████████████████████████████| 100/100 [00:00<00:00, 4201.19it/s]\n",
      "100%|███████████████████████████████████████| 100/100 [00:00<00:00, 3729.30it/s]\n"
     ]
    }
   ],
   "source": [
    "dbscan_results = []\n",
    "\n",
    "# Manual eps\n",
    "manual_eps = 20\n",
    "manual_eps_clusters, manual_eps_labels = dbscan.cluster(dataset, field_for_index=None, eps=manual_eps, distance_type=default_distance_type)\n",
    "dbscan_results.append(ClusteringResult(method=\"DBSCAN\", parameter=\"eps\",value=str(manual_eps) + \" (manual value)\",clusters=manual_eps_clusters, similarity_metric=default_distance_type))\n",
    "\n",
    "# Eps detection using knee method\n",
    "knee_eps_clusters, knee_eps_labels = dbscan.cluster(dataset, field_for_index=None, eps='knee', distance_type=default_distance_type)\n",
    "dbscan_results.append(ClusteringResult(method=\"DBSCAN\", parameter=\"eps\", value=\"knee (auto)\", clusters=knee_eps_clusters, similarity_metric=default_distance_type))\n",
    "\n",
    "# Eps detection using knee method from kneed library\n",
    "knee_lib_eps_clusters, knee_lib_eps_labels = dbscan.cluster(dataset, field_for_index=None, eps='kneed_lib', distance_type=default_distance_type)\n",
    "dbscan_results.append(ClusteringResult(method=\"DBSCAN\", parameter=\"eps\", value=\"kneedlib (auto)\", clusters=knee_lib_eps_clusters, similarity_metric=default_distance_type))\n",
    "\n",
    "# Eps detection using silhouette_score (Default value)\n",
    "sil_score_eps_clusters, sil_score_eps_labels = dbscan.cluster(dataset, field_for_index=None, eps='sil', distance_type=default_distance_type)\n",
    "dbscan_results.append(ClusteringResult(method=\"DBSCAN\", parameter=\"eps\", value=\"silhouette_score (auto)\", clusters=sil_score_eps_clusters, similarity_metric=default_distance_type))\n",
    "\n",
    "overal_results.extend(dbscan_results)"
   ]
  },
  {
   "cell_type": "code",
   "execution_count": 23,
   "id": "95725078-be88-4bf4-b18d-378233363534",
   "metadata": {},
   "outputs": [
    {
     "name": "stdout",
     "output_type": "stream",
     "text": [
      "Actual cluster count: 10\n"
     ]
    },
    {
     "data": {
      "text/html": [
       "<style type=\"text/css\">\n",
       "</style>\n",
       "<table id=\"T_2043c_\">\n",
       "  <thead>\n",
       "    <tr>\n",
       "      <th class=\"blank level0\" >&nbsp;</th>\n",
       "      <th class=\"col_heading level0 col0\" >Clustering method</th>\n",
       "      <th class=\"col_heading level0 col1\" >Optimized parameter</th>\n",
       "      <th class=\"col_heading level0 col2\" >Optimization type</th>\n",
       "      <th class=\"col_heading level0 col3\" >Similarity Metric</th>\n",
       "      <th class=\"col_heading level0 col4\" >Clusters detected</th>\n",
       "    </tr>\n",
       "  </thead>\n",
       "  <tbody>\n",
       "    <tr>\n",
       "      <th id=\"T_2043c_level0_row0\" class=\"row_heading level0 row0\" >0</th>\n",
       "      <td id=\"T_2043c_row0_col0\" class=\"data row0 col0\" >DBSCAN</td>\n",
       "      <td id=\"T_2043c_row0_col1\" class=\"data row0 col1\" >eps</td>\n",
       "      <td id=\"T_2043c_row0_col2\" class=\"data row0 col2\" >20 (manual value)</td>\n",
       "      <td id=\"T_2043c_row0_col3\" class=\"data row0 col3\" >tlsh</td>\n",
       "      <td id=\"T_2043c_row0_col4\" class=\"data row0 col4\" >1</td>\n",
       "    </tr>\n",
       "    <tr>\n",
       "      <th id=\"T_2043c_level0_row1\" class=\"row_heading level0 row1\" >1</th>\n",
       "      <td id=\"T_2043c_row1_col0\" class=\"data row1 col0\" >DBSCAN</td>\n",
       "      <td id=\"T_2043c_row1_col1\" class=\"data row1 col1\" >eps</td>\n",
       "      <td id=\"T_2043c_row1_col2\" class=\"data row1 col2\" >knee (auto)</td>\n",
       "      <td id=\"T_2043c_row1_col3\" class=\"data row1 col3\" >tlsh</td>\n",
       "      <td id=\"T_2043c_row1_col4\" class=\"data row1 col4\" >13</td>\n",
       "    </tr>\n",
       "    <tr>\n",
       "      <th id=\"T_2043c_level0_row2\" class=\"row_heading level0 row2\" >2</th>\n",
       "      <td id=\"T_2043c_row2_col0\" class=\"data row2 col0\" >DBSCAN</td>\n",
       "      <td id=\"T_2043c_row2_col1\" class=\"data row2 col1\" >eps</td>\n",
       "      <td id=\"T_2043c_row2_col2\" class=\"data row2 col2\" >kneedlib (auto)</td>\n",
       "      <td id=\"T_2043c_row2_col3\" class=\"data row2 col3\" >tlsh</td>\n",
       "      <td id=\"T_2043c_row2_col4\" class=\"data row2 col4\" >23</td>\n",
       "    </tr>\n",
       "    <tr>\n",
       "      <th id=\"T_2043c_level0_row3\" class=\"row_heading level0 row3\" >3</th>\n",
       "      <td id=\"T_2043c_row3_col0\" class=\"data row3 col0\" >DBSCAN</td>\n",
       "      <td id=\"T_2043c_row3_col1\" class=\"data row3 col1\" >eps</td>\n",
       "      <td id=\"T_2043c_row3_col2\" class=\"data row3 col2\" >silhouette_score (auto)</td>\n",
       "      <td id=\"T_2043c_row3_col3\" class=\"data row3 col3\" >tlsh</td>\n",
       "      <td id=\"T_2043c_row3_col4\" class=\"data row3 col4\" >14</td>\n",
       "    </tr>\n",
       "  </tbody>\n",
       "</table>\n"
      ],
      "text/plain": [
       "<pandas.io.formats.style.Styler at 0x7f270983b0d0>"
      ]
     },
     "metadata": {},
     "output_type": "display_data"
    }
   ],
   "source": [
    "print_results(dbscan_results, target_cluster_count)"
   ]
  },
  {
   "cell_type": "markdown",
   "id": "812b3ee6-655a-4898-b0cc-dfa4fcfdc94c",
   "metadata": {},
   "source": [
    "# Plot clusters"
   ]
  },
  {
   "cell_type": "markdown",
   "id": "e0b2b00b-f3fa-4f92-9a5f-9df1ce2958f6",
   "metadata": {},
   "source": [
    "When ploting the clusters, it should be taken into account that our data has already a reduced dimentionality. As already mentioned, the x and y coordinates are not present, instead we have the distances between each sample. \n",
    "\n",
    "Lets check the following trivial case:\n",
    "\n",
    "1. We have 3 dummy samples representing our cluster centers (i.e. whe have 3 cluster), for which the x and y coordinates are present:\n",
    "\n",
    "| Sample | X  | Y  |\n",
    "|--------|----|----|\n",
    "| First  | 0  | 0  |\n",
    "| Second | 2  | 2  |\n",
    "| Third  | -2 | -2 |\n",
    "\n",
    "2. We calculate the euclidean distances between the 3 sample points which results in the following distance matrix:\n",
    "\n",
    "| Sample | First  | Second  | Third  |\n",
    "|--------|--------|---------|--------|\n",
    "| First  | 0      | 2       | 2      | \n",
    "| Second | 2      | 0       | 4      | \n",
    "| Third  | 2      | 4       | 0      | \n",
    "\n",
    "3. Now we forget about the x and y coordinates which leaves us with the distance matrix only which represents our current problem.\n",
    "\n",
    "4. If we try to plot all of the clusters by using the only first sample as a refference for all of the distances, we see a problem.\n",
    "Even though the second and third samples are separate clusters, their euclidean distances from the first sample are the same, which \n",
    "will result in overlapping points on the plot. This however is only a problme in the graphical presentation of the data. For the clustering\n",
    "algorithms this is irrelevant, because they use the whole distance matrix (i.e. the relative distances from each to every other point)\n",
    "when determening the cluster of a sample. To avoid the described problem we should do the same when presenting the data i.e. we should \n",
    "add more dimensions to the plot to separate clusters with similar distances but different x and y coordinates.\n",
    "\n",
    "Note (Nikolay): This somehow feels like the reverse process PCA, which I'm not sure if in our case it's possible, because we are missing some \n",
    "data for the reconstruction. Also you'll see in the following examples that when ploting in 3D some of the overlapping clusters get separated,\n",
    "but others are still overlapping, which as far as I understand means, that we need more dimensions to propperly present the data.\n"
   ]
  },
  {
   "cell_type": "markdown",
   "id": "8f1fa1b1-80ca-49b7-94d4-f16bb03ddd0c",
   "metadata": {},
   "source": [
    "## The silhoutte score returns the most promising results therefore the clustering results with this method here"
   ]
  },
  {
   "cell_type": "code",
   "execution_count": 24,
   "id": "2f47dffe-c353-49f5-84c5-a8037fd222ee",
   "metadata": {},
   "outputs": [],
   "source": [
    "# Generate random colors for each cluster\n",
    "random_colors = [\"#\"+''.join([random.choice('0123456789ABCDEF') for j in range(6)])\n",
    "             for i in range(sil_score_eps_clusters)]"
   ]
  },
  {
   "cell_type": "markdown",
   "id": "aa21916e-ba88-4716-b4dc-2d2baa059fc9",
   "metadata": {},
   "source": [
    "# Plot clusters using the distances relative to the first sample as x and relative to the second as y value"
   ]
  },
  {
   "cell_type": "code",
   "execution_count": 25,
   "id": "3d4369d8-4c41-431f-9c1a-cd35cdf2bd75",
   "metadata": {},
   "outputs": [
    {
     "data": {
      "image/png": "[encoded data removed]",
      "text/plain": [
       "<Figure size 1080x720 with 1 Axes>"
      ]
     },
     "metadata": {},
     "output_type": "display_data"
    }
   ],
   "source": [
    "sample_colors = []\n",
    "for sample in dataset:\n",
    "    sample_colors.append(random_colors[sample['label']])  \n",
    "\n",
    "plt.figure()\n",
    "for idx in range(len(distance_matrix[0])):\n",
    "    x = distance_matrix[0][idx]\n",
    "    y = distance_matrix[1][idx]\n",
    "    plt.scatter(x, y, s=10, c=sample_colors[idx])  # Plot a line at each location specified in a\n",
    "plt.show()"
   ]
  },
  {
   "cell_type": "markdown",
   "id": "066bd7b6-fbf7-4f87-bcab-73eb9021f704",
   "metadata": {},
   "source": [
    "# Plot clusters using the distances relative to the first sample as x, relative to the second as y value and relative to the third as z value"
   ]
  },
  {
   "cell_type": "code",
   "execution_count": 26,
   "id": "abfe0fdd-224f-4464-8775-7ad325e9bf86",
   "metadata": {},
   "outputs": [
    {
     "data": {
      "image/png": "[encoded data removed]",
      "text/plain": [
       "<Figure size 1080x720 with 1 Axes>"
      ]
     },
     "metadata": {},
     "output_type": "display_data"
    }
   ],
   "source": [
    "sample_colors = []\n",
    "for label in sil_score_eps_labels:\n",
    "    sample_colors.append(random_colors[label])  \n",
    "    \n",
    "fig = plt.figure()\n",
    "ax = fig.add_subplot(projection='3d')\n",
    "for idx in range(len(distance_matrix[0])):\n",
    "    x = distance_matrix[0][idx]\n",
    "    y = distance_matrix[1][idx]\n",
    "    z = distance_matrix[1][idx]\n",
    "    ax.scatter(x, y, z, s=10, c=sample_colors[idx])  # Plot a line at each location specified in a\n",
    "\n",
    "# rotate the axes and update\n",
    "for angle in range(0, 360):\n",
    "    ax.view_init(30, angle)\n",
    "plt.show()"
   ]
  },
  {
   "cell_type": "markdown",
   "id": "9b3b7cbb-796f-4f8c-b7d9-c9e3738343df",
   "metadata": {},
   "source": [
    "### OPTICS with "
   ]
  },
  {
   "cell_type": "code",
   "execution_count": 27,
   "id": "085d82fd-7f49-4c90-955f-d1991d9bb46a",
   "metadata": {},
   "outputs": [
    {
     "name": "stderr",
     "output_type": "stream",
     "text": [
      "100%|███████████████████████████████████████| 100/100 [00:00<00:00, 4517.05it/s]\n",
      "/home/ubuntu/.local/lib/python3.10/site-packages/sklearn/cluster/_optics.py:903: RuntimeWarning: divide by zero encountered in true_divide\n",
      "  ratio = reachability_plot[:-1] / reachability_plot[1:]\n",
      "100%|███████████████████████████████████████| 100/100 [00:00<00:00, 4348.77it/s]\n",
      "/home/ubuntu/.local/lib/python3.10/site-packages/sklearn/cluster/_optics.py:903: RuntimeWarning: divide by zero encountered in true_divide\n",
      "  ratio = reachability_plot[:-1] / reachability_plot[1:]\n",
      "100%|███████████████████████████████████████| 100/100 [00:00<00:00, 4459.94it/s]\n",
      "100%|███████████████████████████████████████| 100/100 [00:00<00:00, 3543.06it/s]\n",
      "100%|███████████████████████████████████████| 100/100 [00:00<00:00, 4123.79it/s]\n",
      "100%|███████████████████████████████████████| 100/100 [00:00<00:00, 3003.68it/s]\n",
      "100%|███████████████████████████████████████| 100/100 [00:00<00:00, 2475.45it/s]\n",
      "100%|███████████████████████████████████████| 100/100 [00:00<00:00, 2666.52it/s]\n"
     ]
    }
   ],
   "source": [
    "# OPTICS with different min sample count\n",
    "\n",
    "optics = OPTICSClustering()\n",
    "\n",
    "optics_resuls = []\n",
    "for min_sample in range (2,10):\n",
    "    clusters, labels = optics.cluster(dataset, field_for_index=None, min_sample=min_sample, distance_type=default_distance_type)\n",
    "    optics_resuls.append(ClusteringResult(method=\"OPTICS\",parameter=\"min_sample\",value=str(min_sample) + \" (manual value)\",clusters=clusters, similarity_metric=default_distance_type))\n",
    "\n",
    "overal_results.extend(optics_resuls)"
   ]
  },
  {
   "cell_type": "code",
   "execution_count": 28,
   "id": "ab32b325-7246-4141-8fd2-50a629b390ad",
   "metadata": {},
   "outputs": [
    {
     "name": "stdout",
     "output_type": "stream",
     "text": [
      "Actual cluster count: 10\n"
     ]
    },
    {
     "data": {
      "text/html": [
       "<style type=\"text/css\">\n",
       "</style>\n",
       "<table id=\"T_ee399_\">\n",
       "  <thead>\n",
       "    <tr>\n",
       "      <th class=\"blank level0\" >&nbsp;</th>\n",
       "      <th class=\"col_heading level0 col0\" >Clustering method</th>\n",
       "      <th class=\"col_heading level0 col1\" >Optimized parameter</th>\n",
       "      <th class=\"col_heading level0 col2\" >Optimization type</th>\n",
       "      <th class=\"col_heading level0 col3\" >Similarity Metric</th>\n",
       "      <th class=\"col_heading level0 col4\" >Clusters detected</th>\n",
       "    </tr>\n",
       "  </thead>\n",
       "  <tbody>\n",
       "    <tr>\n",
       "      <th id=\"T_ee399_level0_row0\" class=\"row_heading level0 row0\" >0</th>\n",
       "      <td id=\"T_ee399_row0_col0\" class=\"data row0 col0\" >OPTICS</td>\n",
       "      <td id=\"T_ee399_row0_col1\" class=\"data row0 col1\" >min_sample</td>\n",
       "      <td id=\"T_ee399_row0_col2\" class=\"data row0 col2\" >2 (manual value)</td>\n",
       "      <td id=\"T_ee399_row0_col3\" class=\"data row0 col3\" >tlsh</td>\n",
       "      <td id=\"T_ee399_row0_col4\" class=\"data row0 col4\" >17</td>\n",
       "    </tr>\n",
       "    <tr>\n",
       "      <th id=\"T_ee399_level0_row1\" class=\"row_heading level0 row1\" >1</th>\n",
       "      <td id=\"T_ee399_row1_col0\" class=\"data row1 col0\" >OPTICS</td>\n",
       "      <td id=\"T_ee399_row1_col1\" class=\"data row1 col1\" >min_sample</td>\n",
       "      <td id=\"T_ee399_row1_col2\" class=\"data row1 col2\" >3 (manual value)</td>\n",
       "      <td id=\"T_ee399_row1_col3\" class=\"data row1 col3\" >tlsh</td>\n",
       "      <td id=\"T_ee399_row1_col4\" class=\"data row1 col4\" >14</td>\n",
       "    </tr>\n",
       "    <tr>\n",
       "      <th id=\"T_ee399_level0_row2\" class=\"row_heading level0 row2\" >2</th>\n",
       "      <td id=\"T_ee399_row2_col0\" class=\"data row2 col0\" >OPTICS</td>\n",
       "      <td id=\"T_ee399_row2_col1\" class=\"data row2 col1\" >min_sample</td>\n",
       "      <td id=\"T_ee399_row2_col2\" class=\"data row2 col2\" >4 (manual value)</td>\n",
       "      <td id=\"T_ee399_row2_col3\" class=\"data row2 col3\" >tlsh</td>\n",
       "      <td id=\"T_ee399_row2_col4\" class=\"data row2 col4\" >11</td>\n",
       "    </tr>\n",
       "    <tr>\n",
       "      <th id=\"T_ee399_level0_row3\" class=\"row_heading level0 row3\" >3</th>\n",
       "      <td id=\"T_ee399_row3_col0\" class=\"data row3 col0\" >OPTICS</td>\n",
       "      <td id=\"T_ee399_row3_col1\" class=\"data row3 col1\" >min_sample</td>\n",
       "      <td id=\"T_ee399_row3_col2\" class=\"data row3 col2\" >5 (manual value)</td>\n",
       "      <td id=\"T_ee399_row3_col3\" class=\"data row3 col3\" >tlsh</td>\n",
       "      <td id=\"T_ee399_row3_col4\" class=\"data row3 col4\" >10</td>\n",
       "    </tr>\n",
       "    <tr>\n",
       "      <th id=\"T_ee399_level0_row4\" class=\"row_heading level0 row4\" >4</th>\n",
       "      <td id=\"T_ee399_row4_col0\" class=\"data row4 col0\" >OPTICS</td>\n",
       "      <td id=\"T_ee399_row4_col1\" class=\"data row4 col1\" >min_sample</td>\n",
       "      <td id=\"T_ee399_row4_col2\" class=\"data row4 col2\" >6 (manual value)</td>\n",
       "      <td id=\"T_ee399_row4_col3\" class=\"data row4 col3\" >tlsh</td>\n",
       "      <td id=\"T_ee399_row4_col4\" class=\"data row4 col4\" >9</td>\n",
       "    </tr>\n",
       "    <tr>\n",
       "      <th id=\"T_ee399_level0_row5\" class=\"row_heading level0 row5\" >5</th>\n",
       "      <td id=\"T_ee399_row5_col0\" class=\"data row5 col0\" >OPTICS</td>\n",
       "      <td id=\"T_ee399_row5_col1\" class=\"data row5 col1\" >min_sample</td>\n",
       "      <td id=\"T_ee399_row5_col2\" class=\"data row5 col2\" >7 (manual value)</td>\n",
       "      <td id=\"T_ee399_row5_col3\" class=\"data row5 col3\" >tlsh</td>\n",
       "      <td id=\"T_ee399_row5_col4\" class=\"data row5 col4\" >8</td>\n",
       "    </tr>\n",
       "    <tr>\n",
       "      <th id=\"T_ee399_level0_row6\" class=\"row_heading level0 row6\" >6</th>\n",
       "      <td id=\"T_ee399_row6_col0\" class=\"data row6 col0\" >OPTICS</td>\n",
       "      <td id=\"T_ee399_row6_col1\" class=\"data row6 col1\" >min_sample</td>\n",
       "      <td id=\"T_ee399_row6_col2\" class=\"data row6 col2\" >8 (manual value)</td>\n",
       "      <td id=\"T_ee399_row6_col3\" class=\"data row6 col3\" >tlsh</td>\n",
       "      <td id=\"T_ee399_row6_col4\" class=\"data row6 col4\" >8</td>\n",
       "    </tr>\n",
       "    <tr>\n",
       "      <th id=\"T_ee399_level0_row7\" class=\"row_heading level0 row7\" >7</th>\n",
       "      <td id=\"T_ee399_row7_col0\" class=\"data row7 col0\" >OPTICS</td>\n",
       "      <td id=\"T_ee399_row7_col1\" class=\"data row7 col1\" >min_sample</td>\n",
       "      <td id=\"T_ee399_row7_col2\" class=\"data row7 col2\" >9 (manual value)</td>\n",
       "      <td id=\"T_ee399_row7_col3\" class=\"data row7 col3\" >tlsh</td>\n",
       "      <td id=\"T_ee399_row7_col4\" class=\"data row7 col4\" >6</td>\n",
       "    </tr>\n",
       "  </tbody>\n",
       "</table>\n"
      ],
      "text/plain": [
       "<pandas.io.formats.style.Styler at 0x7f2745bc75e0>"
      ]
     },
     "metadata": {},
     "output_type": "display_data"
    }
   ],
   "source": [
    "print_results(optics_resuls, target_cluster_count)"
   ]
  },
  {
   "cell_type": "code",
   "execution_count": 29,
   "id": "e2549023-4074-4ce1-914e-d2404af673ef",
   "metadata": {},
   "outputs": [
    {
     "name": "stderr",
     "output_type": "stream",
     "text": [
      "100%|███████████████████████████████████████| 100/100 [00:00<00:00, 1897.40it/s]\n"
     ]
    }
   ],
   "source": [
    "# Clustering algorithm causes too much warnings thats why we ignore them\n",
    "import warnings\n",
    "with warnings.catch_warnings():\n",
    "    warnings.simplefilter('ignore')\n",
    "    \n",
    "    # OPTICS with different min sample count\n",
    "    kmedoids = KMedoidsClustering()\n",
    "\n",
    "    kmedoids_resuls = []\n",
    "    clusters, labels = kmedoids.cluster(dataset, distance_type=default_distance_type, field_for_index=None)\n",
    "    kmedoids_resuls.append(ClusteringResult(method=\"KMedoids\",parameter=\"n_clusters\",value=\"silhouette_score (auto)\",clusters=clusters, similarity_metric=default_distance_type))\n",
    "\n",
    "    overal_results.extend(kmedoids_resuls)"
   ]
  },
  {
   "cell_type": "code",
   "execution_count": 30,
   "id": "24cec8ae-bd56-465b-8f3f-ace588fdb66a",
   "metadata": {},
   "outputs": [
    {
     "name": "stdout",
     "output_type": "stream",
     "text": [
      "Actual cluster count: 10\n"
     ]
    },
    {
     "data": {
      "text/html": [
       "<style type=\"text/css\">\n",
       "</style>\n",
       "<table id=\"T_89d29_\">\n",
       "  <thead>\n",
       "    <tr>\n",
       "      <th class=\"blank level0\" >&nbsp;</th>\n",
       "      <th class=\"col_heading level0 col0\" >Clustering method</th>\n",
       "      <th class=\"col_heading level0 col1\" >Optimized parameter</th>\n",
       "      <th class=\"col_heading level0 col2\" >Optimization type</th>\n",
       "      <th class=\"col_heading level0 col3\" >Similarity Metric</th>\n",
       "      <th class=\"col_heading level0 col4\" >Clusters detected</th>\n",
       "    </tr>\n",
       "  </thead>\n",
       "  <tbody>\n",
       "    <tr>\n",
       "      <th id=\"T_89d29_level0_row0\" class=\"row_heading level0 row0\" >0</th>\n",
       "      <td id=\"T_89d29_row0_col0\" class=\"data row0 col0\" >KMedoids</td>\n",
       "      <td id=\"T_89d29_row0_col1\" class=\"data row0 col1\" >n_clusters</td>\n",
       "      <td id=\"T_89d29_row0_col2\" class=\"data row0 col2\" >silhouette_score (auto)</td>\n",
       "      <td id=\"T_89d29_row0_col3\" class=\"data row0 col3\" >tlsh</td>\n",
       "      <td id=\"T_89d29_row0_col4\" class=\"data row0 col4\" >6</td>\n",
       "    </tr>\n",
       "  </tbody>\n",
       "</table>\n"
      ],
      "text/plain": [
       "<pandas.io.formats.style.Styler at 0x7f2709699990>"
      ]
     },
     "metadata": {},
     "output_type": "display_data"
    }
   ],
   "source": [
    "print_results(kmedoids_resuls, target_cluster_count)"
   ]
  },
  {
   "cell_type": "markdown",
   "id": "d411cada-0582-4fb4-b333-a84958121d93",
   "metadata": {},
   "source": [
    "# Sorted results"
   ]
  },
  {
   "cell_type": "code",
   "execution_count": 31,
   "id": "5501136c-78f5-42d2-8d62-828d1ca953e9",
   "metadata": {},
   "outputs": [
    {
     "name": "stdout",
     "output_type": "stream",
     "text": [
      "Actual cluster count: 10\n"
     ]
    },
    {
     "data": {
      "text/html": [
       "<style type=\"text/css\">\n",
       "</style>\n",
       "<table id=\"T_c4858_\">\n",
       "  <thead>\n",
       "    <tr>\n",
       "      <th class=\"blank level0\" >&nbsp;</th>\n",
       "      <th class=\"col_heading level0 col0\" >Clustering method</th>\n",
       "      <th class=\"col_heading level0 col1\" >Optimized parameter</th>\n",
       "      <th class=\"col_heading level0 col2\" >Optimization type</th>\n",
       "      <th class=\"col_heading level0 col3\" >Similarity Metric</th>\n",
       "      <th class=\"col_heading level0 col4\" >Clusters detected</th>\n",
       "    </tr>\n",
       "  </thead>\n",
       "  <tbody>\n",
       "    <tr>\n",
       "      <th id=\"T_c4858_level0_row0\" class=\"row_heading level0 row0\" >0</th>\n",
       "      <td id=\"T_c4858_row0_col0\" class=\"data row0 col0\" >DBSCAN</td>\n",
       "      <td id=\"T_c4858_row0_col1\" class=\"data row0 col1\" >eps</td>\n",
       "      <td id=\"T_c4858_row0_col2\" class=\"data row0 col2\" >20 (manual value)</td>\n",
       "      <td id=\"T_c4858_row0_col3\" class=\"data row0 col3\" >tlsh</td>\n",
       "      <td id=\"T_c4858_row0_col4\" class=\"data row0 col4\" >1</td>\n",
       "    </tr>\n",
       "    <tr>\n",
       "      <th id=\"T_c4858_level0_row1\" class=\"row_heading level0 row1\" >1</th>\n",
       "      <td id=\"T_c4858_row1_col0\" class=\"data row1 col0\" >OPTICS</td>\n",
       "      <td id=\"T_c4858_row1_col1\" class=\"data row1 col1\" >min_sample</td>\n",
       "      <td id=\"T_c4858_row1_col2\" class=\"data row1 col2\" >9 (manual value)</td>\n",
       "      <td id=\"T_c4858_row1_col3\" class=\"data row1 col3\" >tlsh</td>\n",
       "      <td id=\"T_c4858_row1_col4\" class=\"data row1 col4\" >6</td>\n",
       "    </tr>\n",
       "    <tr>\n",
       "      <th id=\"T_c4858_level0_row2\" class=\"row_heading level0 row2\" >2</th>\n",
       "      <td id=\"T_c4858_row2_col0\" class=\"data row2 col0\" >KMedoids</td>\n",
       "      <td id=\"T_c4858_row2_col1\" class=\"data row2 col1\" >n_clusters</td>\n",
       "      <td id=\"T_c4858_row2_col2\" class=\"data row2 col2\" >silhouette_score (auto)</td>\n",
       "      <td id=\"T_c4858_row2_col3\" class=\"data row2 col3\" >tlsh</td>\n",
       "      <td id=\"T_c4858_row2_col4\" class=\"data row2 col4\" >6</td>\n",
       "    </tr>\n",
       "    <tr>\n",
       "      <th id=\"T_c4858_level0_row3\" class=\"row_heading level0 row3\" >3</th>\n",
       "      <td id=\"T_c4858_row3_col0\" class=\"data row3 col0\" >OPTICS</td>\n",
       "      <td id=\"T_c4858_row3_col1\" class=\"data row3 col1\" >min_sample</td>\n",
       "      <td id=\"T_c4858_row3_col2\" class=\"data row3 col2\" >7 (manual value)</td>\n",
       "      <td id=\"T_c4858_row3_col3\" class=\"data row3 col3\" >tlsh</td>\n",
       "      <td id=\"T_c4858_row3_col4\" class=\"data row3 col4\" >8</td>\n",
       "    </tr>\n",
       "    <tr>\n",
       "      <th id=\"T_c4858_level0_row4\" class=\"row_heading level0 row4\" >4</th>\n",
       "      <td id=\"T_c4858_row4_col0\" class=\"data row4 col0\" >OPTICS</td>\n",
       "      <td id=\"T_c4858_row4_col1\" class=\"data row4 col1\" >min_sample</td>\n",
       "      <td id=\"T_c4858_row4_col2\" class=\"data row4 col2\" >8 (manual value)</td>\n",
       "      <td id=\"T_c4858_row4_col3\" class=\"data row4 col3\" >tlsh</td>\n",
       "      <td id=\"T_c4858_row4_col4\" class=\"data row4 col4\" >8</td>\n",
       "    </tr>\n",
       "    <tr>\n",
       "      <th id=\"T_c4858_level0_row5\" class=\"row_heading level0 row5\" >5</th>\n",
       "      <td id=\"T_c4858_row5_col0\" class=\"data row5 col0\" >OPTICS</td>\n",
       "      <td id=\"T_c4858_row5_col1\" class=\"data row5 col1\" >min_sample</td>\n",
       "      <td id=\"T_c4858_row5_col2\" class=\"data row5 col2\" >6 (manual value)</td>\n",
       "      <td id=\"T_c4858_row5_col3\" class=\"data row5 col3\" >tlsh</td>\n",
       "      <td id=\"T_c4858_row5_col4\" class=\"data row5 col4\" >9</td>\n",
       "    </tr>\n",
       "    <tr>\n",
       "      <th id=\"T_c4858_level0_row6\" class=\"row_heading level0 row6\" >6</th>\n",
       "      <td id=\"T_c4858_row6_col0\" class=\"data row6 col0\" >OPTICS</td>\n",
       "      <td id=\"T_c4858_row6_col1\" class=\"data row6 col1\" >min_sample</td>\n",
       "      <td id=\"T_c4858_row6_col2\" class=\"data row6 col2\" >5 (manual value)</td>\n",
       "      <td id=\"T_c4858_row6_col3\" class=\"data row6 col3\" >tlsh</td>\n",
       "      <td id=\"T_c4858_row6_col4\" class=\"data row6 col4\" >10</td>\n",
       "    </tr>\n",
       "    <tr>\n",
       "      <th id=\"T_c4858_level0_row7\" class=\"row_heading level0 row7\" >7</th>\n",
       "      <td id=\"T_c4858_row7_col0\" class=\"data row7 col0\" >OPTICS</td>\n",
       "      <td id=\"T_c4858_row7_col1\" class=\"data row7 col1\" >min_sample</td>\n",
       "      <td id=\"T_c4858_row7_col2\" class=\"data row7 col2\" >4 (manual value)</td>\n",
       "      <td id=\"T_c4858_row7_col3\" class=\"data row7 col3\" >tlsh</td>\n",
       "      <td id=\"T_c4858_row7_col4\" class=\"data row7 col4\" >11</td>\n",
       "    </tr>\n",
       "    <tr>\n",
       "      <th id=\"T_c4858_level0_row8\" class=\"row_heading level0 row8\" >8</th>\n",
       "      <td id=\"T_c4858_row8_col0\" class=\"data row8 col0\" >DBSCAN</td>\n",
       "      <td id=\"T_c4858_row8_col1\" class=\"data row8 col1\" >eps</td>\n",
       "      <td id=\"T_c4858_row8_col2\" class=\"data row8 col2\" >knee (auto)</td>\n",
       "      <td id=\"T_c4858_row8_col3\" class=\"data row8 col3\" >tlsh</td>\n",
       "      <td id=\"T_c4858_row8_col4\" class=\"data row8 col4\" >13</td>\n",
       "    </tr>\n",
       "    <tr>\n",
       "      <th id=\"T_c4858_level0_row9\" class=\"row_heading level0 row9\" >9</th>\n",
       "      <td id=\"T_c4858_row9_col0\" class=\"data row9 col0\" >DBSCAN</td>\n",
       "      <td id=\"T_c4858_row9_col1\" class=\"data row9 col1\" >eps</td>\n",
       "      <td id=\"T_c4858_row9_col2\" class=\"data row9 col2\" >silhouette_score (auto)</td>\n",
       "      <td id=\"T_c4858_row9_col3\" class=\"data row9 col3\" >tlsh</td>\n",
       "      <td id=\"T_c4858_row9_col4\" class=\"data row9 col4\" >14</td>\n",
       "    </tr>\n",
       "    <tr>\n",
       "      <th id=\"T_c4858_level0_row10\" class=\"row_heading level0 row10\" >10</th>\n",
       "      <td id=\"T_c4858_row10_col0\" class=\"data row10 col0\" >OPTICS</td>\n",
       "      <td id=\"T_c4858_row10_col1\" class=\"data row10 col1\" >min_sample</td>\n",
       "      <td id=\"T_c4858_row10_col2\" class=\"data row10 col2\" >3 (manual value)</td>\n",
       "      <td id=\"T_c4858_row10_col3\" class=\"data row10 col3\" >tlsh</td>\n",
       "      <td id=\"T_c4858_row10_col4\" class=\"data row10 col4\" >14</td>\n",
       "    </tr>\n",
       "    <tr>\n",
       "      <th id=\"T_c4858_level0_row11\" class=\"row_heading level0 row11\" >11</th>\n",
       "      <td id=\"T_c4858_row11_col0\" class=\"data row11 col0\" >OPTICS</td>\n",
       "      <td id=\"T_c4858_row11_col1\" class=\"data row11 col1\" >min_sample</td>\n",
       "      <td id=\"T_c4858_row11_col2\" class=\"data row11 col2\" >2 (manual value)</td>\n",
       "      <td id=\"T_c4858_row11_col3\" class=\"data row11 col3\" >tlsh</td>\n",
       "      <td id=\"T_c4858_row11_col4\" class=\"data row11 col4\" >17</td>\n",
       "    </tr>\n",
       "    <tr>\n",
       "      <th id=\"T_c4858_level0_row12\" class=\"row_heading level0 row12\" >12</th>\n",
       "      <td id=\"T_c4858_row12_col0\" class=\"data row12 col0\" >DBSCAN</td>\n",
       "      <td id=\"T_c4858_row12_col1\" class=\"data row12 col1\" >eps</td>\n",
       "      <td id=\"T_c4858_row12_col2\" class=\"data row12 col2\" >kneedlib (auto)</td>\n",
       "      <td id=\"T_c4858_row12_col3\" class=\"data row12 col3\" >tlsh</td>\n",
       "      <td id=\"T_c4858_row12_col4\" class=\"data row12 col4\" >23</td>\n",
       "    </tr>\n",
       "  </tbody>\n",
       "</table>\n"
      ],
      "text/plain": [
       "<pandas.io.formats.style.Styler at 0x7f270969b610>"
      ]
     },
     "metadata": {},
     "output_type": "display_data"
    }
   ],
   "source": [
    "overal_results.sort()\n",
    "print_results(overal_results, target_cluster_count)"
   ]
  }
 ],
 "metadata": {
  "kernelspec": {
   "display_name": "Python 3 (ipykernel)",
   "language": "python",
   "name": "python3"
  },
  "language_info": {
   "codemirror_mode": {
    "name": "ipython",
    "version": 3
   },
   "file_extension": ".py",
   "mimetype": "text/x-python",
   "name": "python",
   "nbconvert_exporter": "python",
   "pygments_lexer": "ipython3",
   "version": "3.10.6"
  }
 },
 "nbformat": 4,
 "nbformat_minor": 5
}
