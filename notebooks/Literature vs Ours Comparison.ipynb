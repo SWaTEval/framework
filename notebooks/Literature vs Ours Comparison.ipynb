{
 "cells": [
  {
   "cell_type": "code",
   "execution_count": 1,
   "id": "a9122eda-a18a-45a4-9fda-4f57353d0e1e",
   "metadata": {
    "pycharm": {
     "name": "#%%\n"
    }
   },
   "outputs": [],
   "source": [
    "import pandas as pd\n",
    "from sklearn.metrics import f1_score\n",
    "from sklearn.metrics import confusion_matrix\n",
    "from sklearn.metrics import precision_score\n",
    "from sklearn.metrics import recall_score\n",
    "from sklearn.metrics import accuracy_score\n",
    "import os"
   ]
  },
  {
   "cell_type": "markdown",
   "id": "a9c38348-9f07-4198-b0ee-170e97d5a37e",
   "metadata": {
    "tags": []
   },
   "source": [
    "# Evaluated data from literature\n",
    "\n",
    "**Note:** Run the *Apps Evaluation.ipynb* notebook first to generate the evaluation data"
   ]
  },
  {
   "cell_type": "code",
   "execution_count": 2,
   "id": "ae9cc846-4a7c-4285-838f-6777a0f109d8",
   "metadata": {},
   "outputs": [],
   "source": [
    "directory = \"**path to the generated app evaluation data**\" "
   ]
  },
  {
   "cell_type": "code",
   "execution_count": 3,
   "id": "bd23feaa-5e4d-4ddc-b72f-4be190000b00",
   "metadata": {
    "pycharm": {
     "name": "#%%\n"
    }
   },
   "outputs": [],
   "source": [
    "def evaluate(y_true, y_pred_matrix):\n",
    "    eval_results = pd.DataFrame()\n",
    "    for metric in y_pred_matrix.columns:\n",
    "        y_pred = y_pred_matrix[metric]\n",
    "        f1 = f1_score(y_true, y_pred)\n",
    "        accuracy = accuracy_score(y_true, y_pred)\n",
    "        precision = precision_score(y_true, y_pred)\n",
    "        recall = recall_score(y_true, y_pred)\n",
    "        tn, fp, fn, tp = confusion_matrix(y_true, y_pred).ravel()\n",
    "        row = pd.Series({'TP':tp,'TN':tn,'FP':fp,'FN':fn,'Accuracy': accuracy, 'Recall':recall, 'Precision': precision, 'F1':f1},name=metric)\n",
    "        eval_results = eval_results.append(row)\n",
    "    return eval_results"
   ]
  },
  {
   "cell_type": "code",
   "execution_count": 4,
   "id": "cef2af51-27b1-4a09-82d5-ee0d394aff8b",
   "metadata": {
    "pycharm": {
     "name": "#%%\n"
    }
   },
   "outputs": [
    {
     "name": "stderr",
     "output_type": "stream",
     "text": [
      "/home/ubuntu/.local/lib/python3.10/site-packages/sklearn/metrics/_classification.py:1318: UndefinedMetricWarning: Precision is ill-defined and being set to 0.0 due to no predicted samples. Use `zero_division` parameter to control this behavior.\n",
      "  _warn_prf(average, modifier, msg_start, len(result))\n",
      "/home/ubuntu/.local/lib/python3.10/site-packages/sklearn/metrics/_classification.py:1318: UndefinedMetricWarning: Precision is ill-defined and being set to 0.0 due to no predicted samples. Use `zero_division` parameter to control this behavior.\n",
      "  _warn_prf(average, modifier, msg_start, len(result))\n",
      "/home/ubuntu/.local/lib/python3.10/site-packages/sklearn/metrics/_classification.py:1318: UndefinedMetricWarning: Precision is ill-defined and being set to 0.0 due to no predicted samples. Use `zero_division` parameter to control this behavior.\n",
      "  _warn_prf(average, modifier, msg_start, len(result))\n",
      "/home/ubuntu/.local/lib/python3.10/site-packages/sklearn/metrics/_classification.py:1318: UndefinedMetricWarning: Precision is ill-defined and being set to 0.0 due to no predicted samples. Use `zero_division` parameter to control this behavior.\n",
      "  _warn_prf(average, modifier, msg_start, len(result))\n",
      "/home/ubuntu/.local/lib/python3.10/site-packages/sklearn/metrics/_classification.py:1318: UndefinedMetricWarning: Precision is ill-defined and being set to 0.0 due to no predicted samples. Use `zero_division` parameter to control this behavior.\n",
      "  _warn_prf(average, modifier, msg_start, len(result))\n",
      "/home/ubuntu/.local/lib/python3.10/site-packages/sklearn/metrics/_classification.py:1318: UndefinedMetricWarning: Precision is ill-defined and being set to 0.0 due to no predicted samples. Use `zero_division` parameter to control this behavior.\n",
      "  _warn_prf(average, modifier, msg_start, len(result))\n",
      "/home/ubuntu/.local/lib/python3.10/site-packages/sklearn/metrics/_classification.py:1318: UndefinedMetricWarning: Precision is ill-defined and being set to 0.0 due to no predicted samples. Use `zero_division` parameter to control this behavior.\n",
      "  _warn_prf(average, modifier, msg_start, len(result))\n",
      "/home/ubuntu/.local/lib/python3.10/site-packages/sklearn/metrics/_classification.py:1318: UndefinedMetricWarning: Precision is ill-defined and being set to 0.0 due to no predicted samples. Use `zero_division` parameter to control this behavior.\n",
      "  _warn_prf(average, modifier, msg_start, len(result))\n"
     ]
    }
   ],
   "source": [
    "filenames = os.listdir(directory)\n",
    "filecount = len(filenames)\n",
    "eval_results_sum = 0\n",
    "for filename in filenames:\n",
    "    results = pd.read_csv(f\"{directory}/{filename}\").drop(['state1','state2'], axis=1).astype(int)\n",
    "    y_true = results.iloc[:,-1] # Extract the human classified labels\n",
    "    y_pred_matrix = results.iloc[:,0:len(results.columns)-1] # Extract the classified labels\n",
    "    eval_results = evaluate(y_true, y_pred_matrix)\n",
    "    eval_results.to_csv(f'processed_{filename}')\n",
    "    eval_results_sum += eval_results"
   ]
  },
  {
   "cell_type": "code",
   "execution_count": 5,
   "id": "8788c19f-dbfb-479d-9a4b-26cabb6a448f",
   "metadata": {
    "pycharm": {
     "name": "#%%\n"
    }
   },
   "outputs": [],
   "source": [
    "eval_results_average = eval_results_sum/filecount\n",
    "eval_results_average.to_csv(f'all_apps_avereged.csv')"
   ]
  },
  {
   "cell_type": "code",
   "execution_count": 6,
   "id": "77c83182-8170-4482-8601-509a656c16d4",
   "metadata": {
    "pycharm": {
     "name": "#%%\n"
    }
   },
   "outputs": [
    {
     "data": {
      "text/html": [
       "<div>\n",
       "<style scoped>\n",
       "    .dataframe tbody tr th:only-of-type {\n",
       "        vertical-align: middle;\n",
       "    }\n",
       "\n",
       "    .dataframe tbody tr th {\n",
       "        vertical-align: top;\n",
       "    }\n",
       "\n",
       "    .dataframe thead th {\n",
       "        text-align: right;\n",
       "    }\n",
       "</style>\n",
       "<table border=\"1\" class=\"dataframe\">\n",
       "  <thead>\n",
       "    <tr style=\"text-align: right;\">\n",
       "      <th></th>\n",
       "      <th>TP</th>\n",
       "      <th>TN</th>\n",
       "      <th>FP</th>\n",
       "      <th>FN</th>\n",
       "      <th>Accuracy</th>\n",
       "      <th>Recall</th>\n",
       "      <th>Precision</th>\n",
       "      <th>F1</th>\n",
       "    </tr>\n",
       "  </thead>\n",
       "  <tbody>\n",
       "    <tr>\n",
       "      <th>DOM_RTED</th>\n",
       "      <td>2417.000000</td>\n",
       "      <td>5262.444444</td>\n",
       "      <td>3126.888889</td>\n",
       "      <td>25.888889</td>\n",
       "      <td>0.671265</td>\n",
       "      <td>0.986856</td>\n",
       "      <td>0.451301</td>\n",
       "      <td>0.588168</td>\n",
       "    </tr>\n",
       "    <tr>\n",
       "      <th>DOM_Levenshtein</th>\n",
       "      <td>2141.000000</td>\n",
       "      <td>5725.222222</td>\n",
       "      <td>2664.111111</td>\n",
       "      <td>301.888889</td>\n",
       "      <td>0.691715</td>\n",
       "      <td>0.914815</td>\n",
       "      <td>0.420307</td>\n",
       "      <td>0.554952</td>\n",
       "    </tr>\n",
       "    <tr>\n",
       "      <th>DOM_contentHash</th>\n",
       "      <td>2413.555556</td>\n",
       "      <td>3659.555556</td>\n",
       "      <td>4729.777778</td>\n",
       "      <td>29.333333</td>\n",
       "      <td>0.544482</td>\n",
       "      <td>0.985382</td>\n",
       "      <td>0.352899</td>\n",
       "      <td>0.487670</td>\n",
       "    </tr>\n",
       "    <tr>\n",
       "      <th>DOM_SIMHASH</th>\n",
       "      <td>2438.444444</td>\n",
       "      <td>2342.444444</td>\n",
       "      <td>6046.888889</td>\n",
       "      <td>4.444444</td>\n",
       "      <td>0.397069</td>\n",
       "      <td>0.997820</td>\n",
       "      <td>0.287085</td>\n",
       "      <td>0.423125</td>\n",
       "    </tr>\n",
       "    <tr>\n",
       "      <th>VISUAL_BlockHash</th>\n",
       "      <td>2041.333333</td>\n",
       "      <td>5082.666667</td>\n",
       "      <td>3306.666667</td>\n",
       "      <td>401.555556</td>\n",
       "      <td>0.612997</td>\n",
       "      <td>0.861456</td>\n",
       "      <td>0.425498</td>\n",
       "      <td>0.520052</td>\n",
       "    </tr>\n",
       "    <tr>\n",
       "      <th>VISUAL_PHash</th>\n",
       "      <td>1610.000000</td>\n",
       "      <td>4807.777778</td>\n",
       "      <td>3581.555556</td>\n",
       "      <td>832.888889</td>\n",
       "      <td>0.573286</td>\n",
       "      <td>0.749060</td>\n",
       "      <td>0.435682</td>\n",
       "      <td>0.460619</td>\n",
       "    </tr>\n",
       "    <tr>\n",
       "      <th>VISUAL_Hyst</th>\n",
       "      <td>2442.888889</td>\n",
       "      <td>10.888889</td>\n",
       "      <td>8378.444444</td>\n",
       "      <td>0.000000</td>\n",
       "      <td>0.229634</td>\n",
       "      <td>1.000000</td>\n",
       "      <td>0.227640</td>\n",
       "      <td>0.353321</td>\n",
       "    </tr>\n",
       "    <tr>\n",
       "      <th>VISUAL_PDiff</th>\n",
       "      <td>1947.777778</td>\n",
       "      <td>4675.000000</td>\n",
       "      <td>3714.333333</td>\n",
       "      <td>495.111111</td>\n",
       "      <td>0.583699</td>\n",
       "      <td>0.859430</td>\n",
       "      <td>0.359456</td>\n",
       "      <td>0.471679</td>\n",
       "    </tr>\n",
       "    <tr>\n",
       "      <th>VISUAL_SIFT</th>\n",
       "      <td>2313.666667</td>\n",
       "      <td>982.000000</td>\n",
       "      <td>7407.333333</td>\n",
       "      <td>129.222222</td>\n",
       "      <td>0.300974</td>\n",
       "      <td>0.942824</td>\n",
       "      <td>0.238822</td>\n",
       "      <td>0.361356</td>\n",
       "    </tr>\n",
       "    <tr>\n",
       "      <th>VISUAL_SSIM</th>\n",
       "      <td>179.444444</td>\n",
       "      <td>7327.111111</td>\n",
       "      <td>1062.222222</td>\n",
       "      <td>2263.444444</td>\n",
       "      <td>0.693615</td>\n",
       "      <td>0.111111</td>\n",
       "      <td>0.016058</td>\n",
       "      <td>0.028060</td>\n",
       "    </tr>\n",
       "    <tr>\n",
       "      <th>TLSH_nativ</th>\n",
       "      <td>2335.666667</td>\n",
       "      <td>4464.222222</td>\n",
       "      <td>3925.111111</td>\n",
       "      <td>107.222222</td>\n",
       "      <td>0.601021</td>\n",
       "      <td>0.961016</td>\n",
       "      <td>0.403505</td>\n",
       "      <td>0.527454</td>\n",
       "    </tr>\n",
       "    <tr>\n",
       "      <th>TLSH_hash2vec</th>\n",
       "      <td>651.777778</td>\n",
       "      <td>8315.444444</td>\n",
       "      <td>73.888889</td>\n",
       "      <td>1791.111111</td>\n",
       "      <td>0.825516</td>\n",
       "      <td>0.245753</td>\n",
       "      <td>0.858146</td>\n",
       "      <td>0.302605</td>\n",
       "    </tr>\n",
       "  </tbody>\n",
       "</table>\n",
       "</div>"
      ],
      "text/plain": [
       "                           TP           TN           FP           FN  \\\n",
       "DOM_RTED          2417.000000  5262.444444  3126.888889    25.888889   \n",
       "DOM_Levenshtein   2141.000000  5725.222222  2664.111111   301.888889   \n",
       "DOM_contentHash   2413.555556  3659.555556  4729.777778    29.333333   \n",
       "DOM_SIMHASH       2438.444444  2342.444444  6046.888889     4.444444   \n",
       "VISUAL_BlockHash  2041.333333  5082.666667  3306.666667   401.555556   \n",
       "VISUAL_PHash      1610.000000  4807.777778  3581.555556   832.888889   \n",
       "VISUAL_Hyst       2442.888889    10.888889  8378.444444     0.000000   \n",
       "VISUAL_PDiff      1947.777778  4675.000000  3714.333333   495.111111   \n",
       "VISUAL_SIFT       2313.666667   982.000000  7407.333333   129.222222   \n",
       "VISUAL_SSIM        179.444444  7327.111111  1062.222222  2263.444444   \n",
       "TLSH_nativ        2335.666667  4464.222222  3925.111111   107.222222   \n",
       "TLSH_hash2vec      651.777778  8315.444444    73.888889  1791.111111   \n",
       "\n",
       "                  Accuracy    Recall  Precision        F1  \n",
       "DOM_RTED          0.671265  0.986856   0.451301  0.588168  \n",
       "DOM_Levenshtein   0.691715  0.914815   0.420307  0.554952  \n",
       "DOM_contentHash   0.544482  0.985382   0.352899  0.487670  \n",
       "DOM_SIMHASH       0.397069  0.997820   0.287085  0.423125  \n",
       "VISUAL_BlockHash  0.612997  0.861456   0.425498  0.520052  \n",
       "VISUAL_PHash      0.573286  0.749060   0.435682  0.460619  \n",
       "VISUAL_Hyst       0.229634  1.000000   0.227640  0.353321  \n",
       "VISUAL_PDiff      0.583699  0.859430   0.359456  0.471679  \n",
       "VISUAL_SIFT       0.300974  0.942824   0.238822  0.361356  \n",
       "VISUAL_SSIM       0.693615  0.111111   0.016058  0.028060  \n",
       "TLSH_nativ        0.601021  0.961016   0.403505  0.527454  \n",
       "TLSH_hash2vec     0.825516  0.245753   0.858146  0.302605  "
      ]
     },
     "execution_count": 6,
     "metadata": {},
     "output_type": "execute_result"
    }
   ],
   "source": [
    "eval_results_average"
   ]
  },
  {
   "cell_type": "code",
   "execution_count": 7,
   "id": "fd6a6289-416f-45ec-b546-41f65095e6fb",
   "metadata": {},
   "outputs": [],
   "source": [
    "extracted_theirs = eval_results_average.T[['DOM_contentHash', 'DOM_Levenshtein', 'TLSH_hash2vec']]\n",
    "extracted_theirs = extracted_theirs.rename(columns={'DOM_contentHash': 'TLSH Score (Hash)', 'DOM_Levenshtein': 'Levenshtein (DOM)', 'TLSH_hash2vec':'Euclidean (Hash)'})\n",
    "extracted_theirs = extracted_theirs.T"
   ]
  },
  {
   "cell_type": "markdown",
   "id": "fe9ef6f7-6f3e-4b89-a077-16c8f021adef",
   "metadata": {
    "pycharm": {
     "name": "#%% md\n"
    },
    "tags": []
   },
   "source": [
    "# Extract data from our evaluation framework"
   ]
  },
  {
   "cell_type": "code",
   "execution_count": 8,
   "id": "890c0fd6-b47d-4dbb-9ee0-6b90927f84b5",
   "metadata": {
    "pycharm": {
     "name": "#%%\n"
    }
   },
   "outputs": [],
   "source": [
    "directory = \"**Path to the directory where the data from our evaluation is contained*\""
   ]
  },
  {
   "cell_type": "code",
   "execution_count": 9,
   "id": "1e752efd-4805-4f61-8a11-aed2401b927c",
   "metadata": {
    "pycharm": {
     "name": "#%%\n"
    }
   },
   "outputs": [],
   "source": [
    "import json\n",
    "\n",
    "with open(directory + '/endpoints.json') as f:\n",
    "    endpoints = json.load(f)\n",
    "\n",
    "with open(directory + '/interactions.json') as f:\n",
    "    interactions = json.load(f)"
   ]
  },
  {
   "cell_type": "markdown",
   "id": "f28e2a93-86c8-4034-94f3-edf426ff4fb5",
   "metadata": {
    "pycharm": {
     "name": "#%% md\n"
    }
   },
   "source": [
    "### Parsing interactions as states"
   ]
  },
  {
   "cell_type": "code",
   "execution_count": 10,
   "id": "6d4b8a8a-b667-4bba-9966-e973662b7e1d",
   "metadata": {
    "pycharm": {
     "name": "#%%\n"
    }
   },
   "outputs": [
    {
     "name": "stderr",
     "output_type": "stream",
     "text": [
      "100%|█████████████████████████████████████| 286/286 [00:00<00:00, 409130.61it/s]\n"
     ]
    }
   ],
   "source": [
    "from tqdm import tqdm\n",
    "\n",
    "state_names = list()\n",
    "clustering_input = list()\n",
    "for interaction in tqdm(interactions):\n",
    "    state_hash = interaction['hash']\n",
    "    state_name = interaction['_id']['$oid']\n",
    "    dom = interaction['response']['data']\n",
    "    clustering_input.append({'name': state_name, 'hash': state_hash, 'dom':dom})\n",
    "    state_names.append(state_name)"
   ]
  },
  {
   "cell_type": "code",
   "execution_count": 11,
   "id": "b3601ddb-02e0-4252-b6ea-681fa764cfef",
   "metadata": {
    "pycharm": {
     "name": "#%%\n"
    }
   },
   "outputs": [],
   "source": [
    "import sys\n",
    "sys.path.insert(0, '..') # Allow relative imports\n",
    "from scanner.Detection.ClusteringBased.Clustering.DBSCANClustering import DBSCANClustering\n",
    "clustering = DBSCANClustering()"
   ]
  },
  {
   "cell_type": "code",
   "execution_count": 12,
   "id": "67f0a986-efed-4198-a775-3114918f6a31",
   "metadata": {
    "pycharm": {
     "name": "#%%\n"
    }
   },
   "outputs": [
    {
     "name": "stderr",
     "output_type": "stream",
     "text": [
      "100%|███████████████████████████████████████| 286/286 [00:00<00:00, 1388.23it/s]\n"
     ]
    },
    {
     "name": "stdout",
     "output_type": "stream",
     "text": [
      "DBSCAN TLSH Nativ found 8 clusters\n"
     ]
    }
   ],
   "source": [
    "n_clusters_nativ, labels_nativ = clustering.cluster(clustering_input, distance_type='tlsh', field_for_index='name')\n",
    "print(f'DBSCAN TLSH Nativ found {n_clusters_nativ} clusters')"
   ]
  },
  {
   "cell_type": "code",
   "execution_count": 13,
   "id": "1916f73e-f1f2-4762-bec6-4b5d58d91e31",
   "metadata": {
    "pycharm": {
     "name": "#%%\n"
    }
   },
   "outputs": [
    {
     "name": "stdout",
     "output_type": "stream",
     "text": [
      "DBSCAN TLSH Hash2Vec found 20 clusters\n"
     ]
    }
   ],
   "source": [
    "n_clusters_hash2vec, labels_hash2vec = clustering.cluster(clustering_input, distance_type='hash2vec', field_for_index='name')\n",
    "print(f'DBSCAN TLSH Hash2Vec found {n_clusters_hash2vec} clusters')"
   ]
  },
  {
   "cell_type": "code",
   "execution_count": 14,
   "id": "581439d8-0d1b-442e-adc9-0594b83cec08",
   "metadata": {
    "pycharm": {
     "name": "#%%\n"
    }
   },
   "outputs": [
    {
     "name": "stderr",
     "output_type": "stream",
     "text": [
      "100%|████████████████████████████████████████| 286/286 [00:00<00:00, 369.30it/s]\n"
     ]
    },
    {
     "name": "stdout",
     "output_type": "stream",
     "text": [
      "DBSCAN TLSH Levenshtain DOM found 9 clusters\n"
     ]
    }
   ],
   "source": [
    "n_clusters_levenshtein_dom, labels_levenshtein_dom = clustering.cluster(clustering_input, distance_type='levenshtein', field_for_index='dom')\n",
    "print(f'DBSCAN TLSH Levenshtain DOM found {n_clusters_levenshtein_dom} clusters')"
   ]
  },
  {
   "cell_type": "code",
   "execution_count": 15,
   "id": "8a3b6560-34ea-4631-bbb2-8d4791b530c1",
   "metadata": {
    "pycharm": {
     "name": "#%%\n"
    }
   },
   "outputs": [],
   "source": [
    "import itertools\n",
    "state_pairs = list(itertools.combinations(state_names,2))"
   ]
  },
  {
   "cell_type": "code",
   "execution_count": 16,
   "id": "ff63e76a-484e-4102-b842-dc6442b45968",
   "metadata": {
    "pycharm": {
     "name": "#%%\n"
    }
   },
   "outputs": [],
   "source": [
    "def detect_duplicates(labels, state_pairs, state_names):\n",
    "    duplicate_states = []\n",
    "    for state_pair in tqdm(state_pairs):\n",
    "        first_state_idx = state_names.index(state_pair[0])\n",
    "        first_state_label = labels[first_state_idx]\n",
    "\n",
    "        second_state_idx = state_names.index(state_pair[1])\n",
    "        second_state_label = labels[second_state_idx]\n",
    "\n",
    "        if first_state_label == second_state_label:\n",
    "            duplicate_states.append(state_pair)\n",
    "    return duplicate_states"
   ]
  },
  {
   "cell_type": "code",
   "execution_count": 17,
   "id": "016a3df1-42d1-439d-8cf2-ab92666a6d79",
   "metadata": {
    "pycharm": {
     "name": "#%%\n"
    }
   },
   "outputs": [
    {
     "name": "stderr",
     "output_type": "stream",
     "text": [
      "100%|██████████████████████████████████| 40755/40755 [00:00<00:00, 73128.02it/s]\n"
     ]
    }
   ],
   "source": [
    "our_duplicates_dbscan_tlsh_nativ = detect_duplicates(labels_nativ, state_pairs, state_names)"
   ]
  },
  {
   "cell_type": "code",
   "execution_count": 18,
   "id": "8e3f980d-04a3-4d5a-be38-45bef24b2b6a",
   "metadata": {
    "pycharm": {
     "name": "#%%\n"
    }
   },
   "outputs": [
    {
     "name": "stdout",
     "output_type": "stream",
     "text": [
      "Duplicates found with our TLSH nativ method: 7722\n"
     ]
    }
   ],
   "source": [
    "print(f'Duplicates found with our TLSH nativ method: {len(our_duplicates_dbscan_tlsh_nativ)}')"
   ]
  },
  {
   "cell_type": "code",
   "execution_count": 19,
   "id": "725d8673-d74a-4900-9a42-9787362b399e",
   "metadata": {
    "pycharm": {
     "name": "#%%\n"
    }
   },
   "outputs": [
    {
     "name": "stderr",
     "output_type": "stream",
     "text": [
      "100%|██████████████████████████████████| 40755/40755 [00:00<00:00, 69014.03it/s]\n"
     ]
    }
   ],
   "source": [
    "our_duplicates_dbscan_tlsh_hash2vec = detect_duplicates(labels_hash2vec, state_pairs, state_names)"
   ]
  },
  {
   "cell_type": "code",
   "execution_count": 20,
   "id": "3446edfe-50bc-4405-bfeb-28b9cd7828f2",
   "metadata": {
    "pycharm": {
     "name": "#%%\n"
    }
   },
   "outputs": [
    {
     "name": "stdout",
     "output_type": "stream",
     "text": [
      "Duplicates found with our TLSH Hash2Vec method: 2277\n"
     ]
    }
   ],
   "source": [
    "print(f'Duplicates found with our TLSH Hash2Vec method: {len(our_duplicates_dbscan_tlsh_hash2vec)}')"
   ]
  },
  {
   "cell_type": "code",
   "execution_count": 21,
   "id": "968ab825-0c87-4910-a33a-2a4563011431",
   "metadata": {
    "pycharm": {
     "name": "#%%\n"
    }
   },
   "outputs": [
    {
     "name": "stderr",
     "output_type": "stream",
     "text": [
      "100%|██████████████████████████████████| 40755/40755 [00:00<00:00, 71108.91it/s]\n"
     ]
    }
   ],
   "source": [
    "our_duplicates_dbscan_levenshtain_dom = detect_duplicates(labels_levenshtein_dom, state_pairs, state_names)"
   ]
  },
  {
   "cell_type": "code",
   "execution_count": 22,
   "id": "2007d180-a6eb-48f8-b96a-54306f182bbd",
   "metadata": {
    "pycharm": {
     "name": "#%%\n"
    }
   },
   "outputs": [
    {
     "name": "stdout",
     "output_type": "stream",
     "text": [
      "Duplicates found with our TLSH Levenshtain DOM method: 6391\n"
     ]
    }
   ],
   "source": [
    "print(f'Duplicates found with our TLSH Levenshtain DOM method: {len(our_duplicates_dbscan_levenshtain_dom)}')"
   ]
  },
  {
   "cell_type": "code",
   "execution_count": 23,
   "id": "e32d19c7-15b1-4c14-8acf-a44353edc8e3",
   "metadata": {
    "pycharm": {
     "name": "#%%\n"
    }
   },
   "outputs": [],
   "source": [
    "def create_classified_bool_array(duplicate_state_pairs):\n",
    "    bool_array = []\n",
    "    for state_pair in state_pairs:\n",
    "        if state_pair in duplicate_state_pairs:\n",
    "            bool_array.append(True)\n",
    "        else:\n",
    "            bool_array.append(False)\n",
    "    return bool_array"
   ]
  },
  {
   "cell_type": "code",
   "execution_count": 24,
   "id": "1e7272d5-d0dc-4197-9ad6-d4f3a93627cc",
   "metadata": {
    "pycharm": {
     "name": "#%%\n"
    }
   },
   "outputs": [],
   "source": [
    "def find_state_interaction_path(state_name):\n",
    "    for interaction in interactions:\n",
    "        if interaction['_id']['$oid'] == state_name:\n",
    "            return interaction['request']['endpoint']['path']"
   ]
  },
  {
   "cell_type": "code",
   "execution_count": 25,
   "id": "e263c222-3c02-4c88-96d9-bcabb52432df",
   "metadata": {
    "pycharm": {
     "name": "#%%\n"
    }
   },
   "outputs": [],
   "source": [
    "ground_truth_bool_array = list()\n",
    "for state_pair in state_pairs:\n",
    "    first_state_name = state_pair[0]\n",
    "    second_state_name = state_pair[1]\n",
    "\n",
    "    first_state_interaction_path = find_state_interaction_path(first_state_name)\n",
    "    second_state_interaction_path = find_state_interaction_path(second_state_name)\n",
    "\n",
    "    duplicates = False\n",
    "    if first_state_interaction_path == second_state_interaction_path:\n",
    "        duplicates = True\n",
    "\n",
    "    ground_truth_bool_array.append(duplicates)"
   ]
  },
  {
   "cell_type": "code",
   "execution_count": 26,
   "id": "662f84f7-be7b-4fa3-92a2-91bf10f284d2",
   "metadata": {
    "pycharm": {
     "name": "#%%\n"
    }
   },
   "outputs": [],
   "source": [
    "results = pd.DataFrame()\n",
    "results['state1'] = [i[0] for i in state_pairs]\n",
    "results['state2'] = [i[1] for i in state_pairs]"
   ]
  },
  {
   "cell_type": "code",
   "execution_count": 27,
   "id": "7fb7db26-ce03-4430-b43e-832597835ccc",
   "metadata": {
    "pycharm": {
     "name": "#%%\n"
    }
   },
   "outputs": [],
   "source": [
    "results['TLSH_nativ'] = create_classified_bool_array(our_duplicates_dbscan_tlsh_nativ)\n",
    "results['TLSH_hash2vec'] = create_classified_bool_array(our_duplicates_dbscan_tlsh_hash2vec)\n",
    "results['Levenshtain_Dom'] = create_classified_bool_array(our_duplicates_dbscan_levenshtain_dom)\n",
    "results['Ground Truth'] = ground_truth_bool_array"
   ]
  },
  {
   "cell_type": "code",
   "execution_count": 28,
   "id": "48882126-a050-40f7-a929-11b45dd7e6d7",
   "metadata": {
    "pycharm": {
     "name": "#%%\n"
    }
   },
   "outputs": [
    {
     "data": {
      "text/html": [
       "<div>\n",
       "<style scoped>\n",
       "    .dataframe tbody tr th:only-of-type {\n",
       "        vertical-align: middle;\n",
       "    }\n",
       "\n",
       "    .dataframe tbody tr th {\n",
       "        vertical-align: top;\n",
       "    }\n",
       "\n",
       "    .dataframe thead th {\n",
       "        text-align: right;\n",
       "    }\n",
       "</style>\n",
       "<table border=\"1\" class=\"dataframe\">\n",
       "  <thead>\n",
       "    <tr style=\"text-align: right;\">\n",
       "      <th></th>\n",
       "      <th>state1</th>\n",
       "      <th>state2</th>\n",
       "      <th>TLSH_nativ</th>\n",
       "      <th>TLSH_hash2vec</th>\n",
       "      <th>Levenshtain_Dom</th>\n",
       "      <th>Ground Truth</th>\n",
       "    </tr>\n",
       "  </thead>\n",
       "  <tbody>\n",
       "    <tr>\n",
       "      <th>0</th>\n",
       "      <td>62a9a1cfabe24e90f67f9d11</td>\n",
       "      <td>62a9a1d0abe24e90f67f9d22</td>\n",
       "      <td>True</td>\n",
       "      <td>True</td>\n",
       "      <td>True</td>\n",
       "      <td>True</td>\n",
       "    </tr>\n",
       "    <tr>\n",
       "      <th>1</th>\n",
       "      <td>62a9a1cfabe24e90f67f9d11</td>\n",
       "      <td>62a9a1d0abe24e90f67f9d2b</td>\n",
       "      <td>False</td>\n",
       "      <td>False</td>\n",
       "      <td>False</td>\n",
       "      <td>False</td>\n",
       "    </tr>\n",
       "    <tr>\n",
       "      <th>2</th>\n",
       "      <td>62a9a1cfabe24e90f67f9d11</td>\n",
       "      <td>62a9a1d0abe24e90f67f9d2e</td>\n",
       "      <td>False</td>\n",
       "      <td>False</td>\n",
       "      <td>False</td>\n",
       "      <td>False</td>\n",
       "    </tr>\n",
       "    <tr>\n",
       "      <th>3</th>\n",
       "      <td>62a9a1cfabe24e90f67f9d11</td>\n",
       "      <td>62a9a1d0abe24e90f67f9d32</td>\n",
       "      <td>False</td>\n",
       "      <td>False</td>\n",
       "      <td>False</td>\n",
       "      <td>False</td>\n",
       "    </tr>\n",
       "    <tr>\n",
       "      <th>4</th>\n",
       "      <td>62a9a1cfabe24e90f67f9d11</td>\n",
       "      <td>62a9a1d0abe24e90f67f9d36</td>\n",
       "      <td>False</td>\n",
       "      <td>False</td>\n",
       "      <td>False</td>\n",
       "      <td>False</td>\n",
       "    </tr>\n",
       "    <tr>\n",
       "      <th>...</th>\n",
       "      <td>...</td>\n",
       "      <td>...</td>\n",
       "      <td>...</td>\n",
       "      <td>...</td>\n",
       "      <td>...</td>\n",
       "      <td>...</td>\n",
       "    </tr>\n",
       "    <tr>\n",
       "      <th>40750</th>\n",
       "      <td>62a9a1e8abe24e90f67fa484</td>\n",
       "      <td>62a9a1e8abe24e90f67fa490</td>\n",
       "      <td>True</td>\n",
       "      <td>True</td>\n",
       "      <td>True</td>\n",
       "      <td>True</td>\n",
       "    </tr>\n",
       "    <tr>\n",
       "      <th>40751</th>\n",
       "      <td>62a9a1e8abe24e90f67fa484</td>\n",
       "      <td>62a9a1e9abe24e90f67fa496</td>\n",
       "      <td>False</td>\n",
       "      <td>False</td>\n",
       "      <td>False</td>\n",
       "      <td>False</td>\n",
       "    </tr>\n",
       "    <tr>\n",
       "      <th>40752</th>\n",
       "      <td>62a9a1e8abe24e90f67fa48a</td>\n",
       "      <td>62a9a1e8abe24e90f67fa490</td>\n",
       "      <td>True</td>\n",
       "      <td>False</td>\n",
       "      <td>True</td>\n",
       "      <td>False</td>\n",
       "    </tr>\n",
       "    <tr>\n",
       "      <th>40753</th>\n",
       "      <td>62a9a1e8abe24e90f67fa48a</td>\n",
       "      <td>62a9a1e9abe24e90f67fa496</td>\n",
       "      <td>False</td>\n",
       "      <td>False</td>\n",
       "      <td>False</td>\n",
       "      <td>False</td>\n",
       "    </tr>\n",
       "    <tr>\n",
       "      <th>40754</th>\n",
       "      <td>62a9a1e8abe24e90f67fa490</td>\n",
       "      <td>62a9a1e9abe24e90f67fa496</td>\n",
       "      <td>False</td>\n",
       "      <td>False</td>\n",
       "      <td>False</td>\n",
       "      <td>False</td>\n",
       "    </tr>\n",
       "  </tbody>\n",
       "</table>\n",
       "<p>40755 rows × 6 columns</p>\n",
       "</div>"
      ],
      "text/plain": [
       "                         state1                    state2  TLSH_nativ  \\\n",
       "0      62a9a1cfabe24e90f67f9d11  62a9a1d0abe24e90f67f9d22        True   \n",
       "1      62a9a1cfabe24e90f67f9d11  62a9a1d0abe24e90f67f9d2b       False   \n",
       "2      62a9a1cfabe24e90f67f9d11  62a9a1d0abe24e90f67f9d2e       False   \n",
       "3      62a9a1cfabe24e90f67f9d11  62a9a1d0abe24e90f67f9d32       False   \n",
       "4      62a9a1cfabe24e90f67f9d11  62a9a1d0abe24e90f67f9d36       False   \n",
       "...                         ...                       ...         ...   \n",
       "40750  62a9a1e8abe24e90f67fa484  62a9a1e8abe24e90f67fa490        True   \n",
       "40751  62a9a1e8abe24e90f67fa484  62a9a1e9abe24e90f67fa496       False   \n",
       "40752  62a9a1e8abe24e90f67fa48a  62a9a1e8abe24e90f67fa490        True   \n",
       "40753  62a9a1e8abe24e90f67fa48a  62a9a1e9abe24e90f67fa496       False   \n",
       "40754  62a9a1e8abe24e90f67fa490  62a9a1e9abe24e90f67fa496       False   \n",
       "\n",
       "       TLSH_hash2vec  Levenshtain_Dom  Ground Truth  \n",
       "0               True             True          True  \n",
       "1              False            False         False  \n",
       "2              False            False         False  \n",
       "3              False            False         False  \n",
       "4              False            False         False  \n",
       "...              ...              ...           ...  \n",
       "40750           True             True          True  \n",
       "40751          False            False         False  \n",
       "40752          False             True         False  \n",
       "40753          False            False         False  \n",
       "40754          False            False         False  \n",
       "\n",
       "[40755 rows x 6 columns]"
      ]
     },
     "execution_count": 28,
     "metadata": {},
     "output_type": "execute_result"
    }
   ],
   "source": [
    "results"
   ]
  },
  {
   "cell_type": "code",
   "execution_count": 29,
   "id": "f8c64f44-680c-454f-8df9-b47a0e3b0e13",
   "metadata": {
    "pycharm": {
     "name": "#%%\n"
    }
   },
   "outputs": [],
   "source": [
    "evaluation = results.drop(['state1','state2'], axis=1).astype(int)"
   ]
  },
  {
   "cell_type": "code",
   "execution_count": 30,
   "id": "7f42faed-239d-4f14-9ce9-673221e222d1",
   "metadata": {
    "pycharm": {
     "name": "#%%\n"
    }
   },
   "outputs": [],
   "source": [
    "y_true = evaluation.iloc[:,-1] # Extract the human classified labels"
   ]
  },
  {
   "cell_type": "code",
   "execution_count": 31,
   "id": "0cef2170-16e9-426e-8b67-af829cd90177",
   "metadata": {
    "pycharm": {
     "name": "#%%\n"
    }
   },
   "outputs": [],
   "source": [
    "y_pred_matrix = evaluation.iloc[:,0:len(evaluation.columns)-1] # Extract the classified labels"
   ]
  },
  {
   "cell_type": "code",
   "execution_count": 32,
   "id": "dabb23b1-8cfb-4a2e-aa72-d3a647e9c500",
   "metadata": {
    "pycharm": {
     "name": "#%%\n"
    }
   },
   "outputs": [],
   "source": [
    "from sklearn.metrics import f1_score\n",
    "from sklearn.metrics import confusion_matrix\n",
    "from sklearn.metrics import precision_score\n",
    "from sklearn.metrics import recall_score\n",
    "from sklearn.metrics import accuracy_score\n",
    "\n",
    "eval_results = pd.DataFrame()\n",
    "\n",
    "for metric in y_pred_matrix.columns:\n",
    "    y_pred = y_pred_matrix[metric]\n",
    "    f1 = f1_score(y_true, y_pred)\n",
    "    accuracy = accuracy_score(y_true, y_pred)\n",
    "    precision = precision_score(y_true, y_pred)\n",
    "    recall = recall_score(y_true, y_pred)\n",
    "    tn, fp, fn, tp = confusion_matrix(y_true, y_pred).ravel()\n",
    "\n",
    "    row = pd.Series({'TP':tp,'TN':tn,'FP':fp,'FN':fn,'Accuracy': accuracy, 'Recall':recall, 'Precision': precision, 'F1':f1},name=metric)\n",
    "\n",
    "    eval_results = eval_results.append(row)"
   ]
  },
  {
   "cell_type": "code",
   "execution_count": 33,
   "id": "d9e52585-2716-400f-9ffe-fec7ec559308",
   "metadata": {},
   "outputs": [
    {
     "data": {
      "text/html": [
       "<div>\n",
       "<style scoped>\n",
       "    .dataframe tbody tr th:only-of-type {\n",
       "        vertical-align: middle;\n",
       "    }\n",
       "\n",
       "    .dataframe tbody tr th {\n",
       "        vertical-align: top;\n",
       "    }\n",
       "\n",
       "    .dataframe thead th {\n",
       "        text-align: right;\n",
       "    }\n",
       "</style>\n",
       "<table border=\"1\" class=\"dataframe\">\n",
       "  <thead>\n",
       "    <tr style=\"text-align: right;\">\n",
       "      <th></th>\n",
       "      <th>TP</th>\n",
       "      <th>TN</th>\n",
       "      <th>FP</th>\n",
       "      <th>FN</th>\n",
       "      <th>Accuracy</th>\n",
       "      <th>Recall</th>\n",
       "      <th>Precision</th>\n",
       "      <th>F1</th>\n",
       "    </tr>\n",
       "  </thead>\n",
       "  <tbody>\n",
       "    <tr>\n",
       "      <th>TLSH_nativ</th>\n",
       "      <td>2156.0</td>\n",
       "      <td>32912.0</td>\n",
       "      <td>5566.0</td>\n",
       "      <td>121.0</td>\n",
       "      <td>0.860459</td>\n",
       "      <td>0.94686</td>\n",
       "      <td>0.279202</td>\n",
       "      <td>0.431243</td>\n",
       "    </tr>\n",
       "    <tr>\n",
       "      <th>TLSH_hash2vec</th>\n",
       "      <td>2156.0</td>\n",
       "      <td>38357.0</td>\n",
       "      <td>121.0</td>\n",
       "      <td>121.0</td>\n",
       "      <td>0.994062</td>\n",
       "      <td>0.94686</td>\n",
       "      <td>0.946860</td>\n",
       "      <td>0.946860</td>\n",
       "    </tr>\n",
       "    <tr>\n",
       "      <th>Levenshtain_Dom</th>\n",
       "      <td>2156.0</td>\n",
       "      <td>34243.0</td>\n",
       "      <td>4235.0</td>\n",
       "      <td>121.0</td>\n",
       "      <td>0.893117</td>\n",
       "      <td>0.94686</td>\n",
       "      <td>0.337349</td>\n",
       "      <td>0.497462</td>\n",
       "    </tr>\n",
       "  </tbody>\n",
       "</table>\n",
       "</div>"
      ],
      "text/plain": [
       "                     TP       TN      FP     FN  Accuracy   Recall  Precision  \\\n",
       "TLSH_nativ       2156.0  32912.0  5566.0  121.0  0.860459  0.94686   0.279202   \n",
       "TLSH_hash2vec    2156.0  38357.0   121.0  121.0  0.994062  0.94686   0.946860   \n",
       "Levenshtain_Dom  2156.0  34243.0  4235.0  121.0  0.893117  0.94686   0.337349   \n",
       "\n",
       "                       F1  \n",
       "TLSH_nativ       0.431243  \n",
       "TLSH_hash2vec    0.946860  \n",
       "Levenshtain_Dom  0.497462  "
      ]
     },
     "execution_count": 33,
     "metadata": {},
     "output_type": "execute_result"
    }
   ],
   "source": [
    "eval_results"
   ]
  },
  {
   "cell_type": "code",
   "execution_count": 34,
   "id": "8ab6c0ae-3b15-42c4-b202-99c38d827e12",
   "metadata": {},
   "outputs": [],
   "source": [
    "extracte_ours = eval_results.T[['TLSH_nativ', 'Levenshtain_Dom', 'TLSH_hash2vec']]\n",
    "extracte_ours = extracte_ours.rename(columns={'TLSH_nativ': 'TLSH Score (Hash)', 'Levenshtain_Dom': 'Levenshtein (DOM)', 'TLSH_hash2vec':'Euclidean (Hash)'})\n",
    "extracte_ours = extracte_ours.T"
   ]
  },
  {
   "cell_type": "markdown",
   "id": "aa56aa53-7c44-458e-96b2-80123add6917",
   "metadata": {},
   "source": [
    "# Plot data"
   ]
  },
  {
   "cell_type": "code",
   "execution_count": 35,
   "id": "c121070f-821d-432d-a5f4-3c854b27f0be",
   "metadata": {},
   "outputs": [
    {
     "data": {
      "text/html": [
       "<div>\n",
       "<style scoped>\n",
       "    .dataframe tbody tr th:only-of-type {\n",
       "        vertical-align: middle;\n",
       "    }\n",
       "\n",
       "    .dataframe tbody tr th {\n",
       "        vertical-align: top;\n",
       "    }\n",
       "\n",
       "    .dataframe thead th {\n",
       "        text-align: right;\n",
       "    }\n",
       "</style>\n",
       "<table border=\"1\" class=\"dataframe\">\n",
       "  <thead>\n",
       "    <tr style=\"text-align: right;\">\n",
       "      <th></th>\n",
       "      <th>TP</th>\n",
       "      <th>TN</th>\n",
       "      <th>FP</th>\n",
       "      <th>FN</th>\n",
       "      <th>Accuracy</th>\n",
       "      <th>Recall</th>\n",
       "      <th>Precision</th>\n",
       "      <th>F1</th>\n",
       "    </tr>\n",
       "  </thead>\n",
       "  <tbody>\n",
       "    <tr>\n",
       "      <th>TLSH Score (Hash)</th>\n",
       "      <td>2413.555556</td>\n",
       "      <td>3659.555556</td>\n",
       "      <td>4729.777778</td>\n",
       "      <td>29.333333</td>\n",
       "      <td>0.544482</td>\n",
       "      <td>0.985382</td>\n",
       "      <td>0.352899</td>\n",
       "      <td>0.487670</td>\n",
       "    </tr>\n",
       "    <tr>\n",
       "      <th>Levenshtein (DOM)</th>\n",
       "      <td>2141.000000</td>\n",
       "      <td>5725.222222</td>\n",
       "      <td>2664.111111</td>\n",
       "      <td>301.888889</td>\n",
       "      <td>0.691715</td>\n",
       "      <td>0.914815</td>\n",
       "      <td>0.420307</td>\n",
       "      <td>0.554952</td>\n",
       "    </tr>\n",
       "    <tr>\n",
       "      <th>Euclidean (Hash)</th>\n",
       "      <td>651.777778</td>\n",
       "      <td>8315.444444</td>\n",
       "      <td>73.888889</td>\n",
       "      <td>1791.111111</td>\n",
       "      <td>0.825516</td>\n",
       "      <td>0.245753</td>\n",
       "      <td>0.858146</td>\n",
       "      <td>0.302605</td>\n",
       "    </tr>\n",
       "  </tbody>\n",
       "</table>\n",
       "</div>"
      ],
      "text/plain": [
       "                            TP           TN           FP           FN  \\\n",
       "TLSH Score (Hash)  2413.555556  3659.555556  4729.777778    29.333333   \n",
       "Levenshtein (DOM)  2141.000000  5725.222222  2664.111111   301.888889   \n",
       "Euclidean (Hash)    651.777778  8315.444444    73.888889  1791.111111   \n",
       "\n",
       "                   Accuracy    Recall  Precision        F1  \n",
       "TLSH Score (Hash)  0.544482  0.985382   0.352899  0.487670  \n",
       "Levenshtein (DOM)  0.691715  0.914815   0.420307  0.554952  \n",
       "Euclidean (Hash)   0.825516  0.245753   0.858146  0.302605  "
      ]
     },
     "execution_count": 35,
     "metadata": {},
     "output_type": "execute_result"
    }
   ],
   "source": [
    "extracted_theirs"
   ]
  },
  {
   "cell_type": "code",
   "execution_count": 36,
   "id": "d3bcab26-5d52-4e09-b27d-f74cc681895c",
   "metadata": {},
   "outputs": [
    {
     "data": {
      "text/html": [
       "<div>\n",
       "<style scoped>\n",
       "    .dataframe tbody tr th:only-of-type {\n",
       "        vertical-align: middle;\n",
       "    }\n",
       "\n",
       "    .dataframe tbody tr th {\n",
       "        vertical-align: top;\n",
       "    }\n",
       "\n",
       "    .dataframe thead th {\n",
       "        text-align: right;\n",
       "    }\n",
       "</style>\n",
       "<table border=\"1\" class=\"dataframe\">\n",
       "  <thead>\n",
       "    <tr style=\"text-align: right;\">\n",
       "      <th></th>\n",
       "      <th>TP</th>\n",
       "      <th>TN</th>\n",
       "      <th>FP</th>\n",
       "      <th>FN</th>\n",
       "      <th>Accuracy</th>\n",
       "      <th>Recall</th>\n",
       "      <th>Precision</th>\n",
       "      <th>F1</th>\n",
       "    </tr>\n",
       "  </thead>\n",
       "  <tbody>\n",
       "    <tr>\n",
       "      <th>TLSH Score (Hash)</th>\n",
       "      <td>2156.0</td>\n",
       "      <td>32912.0</td>\n",
       "      <td>5566.0</td>\n",
       "      <td>121.0</td>\n",
       "      <td>0.860459</td>\n",
       "      <td>0.94686</td>\n",
       "      <td>0.279202</td>\n",
       "      <td>0.431243</td>\n",
       "    </tr>\n",
       "    <tr>\n",
       "      <th>Levenshtein (DOM)</th>\n",
       "      <td>2156.0</td>\n",
       "      <td>34243.0</td>\n",
       "      <td>4235.0</td>\n",
       "      <td>121.0</td>\n",
       "      <td>0.893117</td>\n",
       "      <td>0.94686</td>\n",
       "      <td>0.337349</td>\n",
       "      <td>0.497462</td>\n",
       "    </tr>\n",
       "    <tr>\n",
       "      <th>Euclidean (Hash)</th>\n",
       "      <td>2156.0</td>\n",
       "      <td>38357.0</td>\n",
       "      <td>121.0</td>\n",
       "      <td>121.0</td>\n",
       "      <td>0.994062</td>\n",
       "      <td>0.94686</td>\n",
       "      <td>0.946860</td>\n",
       "      <td>0.946860</td>\n",
       "    </tr>\n",
       "  </tbody>\n",
       "</table>\n",
       "</div>"
      ],
      "text/plain": [
       "                       TP       TN      FP     FN  Accuracy   Recall  \\\n",
       "TLSH Score (Hash)  2156.0  32912.0  5566.0  121.0  0.860459  0.94686   \n",
       "Levenshtein (DOM)  2156.0  34243.0  4235.0  121.0  0.893117  0.94686   \n",
       "Euclidean (Hash)   2156.0  38357.0   121.0  121.0  0.994062  0.94686   \n",
       "\n",
       "                   Precision        F1  \n",
       "TLSH Score (Hash)   0.279202  0.431243  \n",
       "Levenshtein (DOM)   0.337349  0.497462  \n",
       "Euclidean (Hash)    0.946860  0.946860  "
      ]
     },
     "execution_count": 36,
     "metadata": {},
     "output_type": "execute_result"
    }
   ],
   "source": [
    "extracte_ours"
   ]
  },
  {
   "cell_type": "code",
   "execution_count": 50,
   "id": "6074f4ce-2313-46fc-bec3-512954742102",
   "metadata": {},
   "outputs": [
    {
     "data": {
      "image/png": "[encoded data removed]",
      "text/plain": [
       "<Figure size 432x216 with 1 Axes>"
      ]
     },
     "metadata": {
      "needs_background": "light"
     },
     "output_type": "display_data"
    }
   ],
   "source": [
    "import matplotlib.pyplot as plt\n",
    "import numpy as np\n",
    "\n",
    "# Numbers of pairs of bars you want\n",
    "N = 3\n",
    "\n",
    "# Position of bars on x-axis\n",
    "ind = np.arange(N)\n",
    "\n",
    "# Width of a bar\n",
    "width = 0.3\n",
    "offset = 0\n",
    "\n",
    "fig, ax = plt.subplots(figsize = (6,3))\n",
    "distance_metrics = list(extracte_ours.index)\n",
    "\n",
    "acc_ours = extracte_ours['Accuracy']\n",
    "acc_ours = round(acc_ours,2)\n",
    "acc_ours = acc_ours[['Euclidean (Hash)', 'TLSH Score (Hash)', 'Levenshtein (DOM)']]\n",
    "\n",
    "acc_theirs = extracted_theirs['Accuracy']\n",
    "acc_theirs = round(acc_theirs,2)\n",
    "acc_theirs = acc_theirs[['Euclidean (Hash)', 'TLSH Score (Hash)', 'Levenshtein (DOM)']]\n",
    "\n",
    "ax.grid(linestyle = '--', linewidth = 0.5, axis = 'y', zorder=0)\n",
    "\n",
    "ax.bar(ind, acc_theirs, width, zorder=3)\n",
    "\n",
    "#ax.bar(ind, acc_theirs, width, yerr=acc_theirs.std(),zorder=3, capsize=5)\n",
    "ax.bar(ind + width + offset, acc_ours, width, zorder=3)\n",
    "#ax.bar(ind + width + offset, acc_ours, width, yerr=acc_ours.std(), zorder=3, capsize=5)\n",
    "\n",
    "for container in ax.containers:\n",
    "    ax.bar_label(container)\n",
    "\n",
    "ax.set_title(\"Duplicate Detection Accuracy of Different Similarity Metrics\")\n",
    "ax.set_xlabel(\"Similarity Metric\")\n",
    "ax.set_ylabel(\"Accuracy\")\n",
    "\n",
    "ax.set_xticks(ind + width / 2, ['Euclidean', 'TLSH Score', 'Levenshtein'])\n",
    "ax.set_ylim(0,1.1)\n",
    "\n",
    "ax.legend(['Data by Yandrapally et al.', 'Our Evaluation Target'],loc='upper center', bbox_to_anchor=(0.5, -0.2),\n",
    "      fancybox=True, shadow=False, ncol=2)\n",
    "\n",
    "plt.savefig('distance_metrics_accuracy_ours_vs_literature.svg', bbox_inches='tight', format='svg')\n"
   ]
  }
 ],
 "metadata": {
  "kernelspec": {
   "display_name": "Python 3 (ipykernel)",
   "language": "python",
   "name": "python3"
  },
  "language_info": {
   "codemirror_mode": {
    "name": "ipython",
    "version": 3
   },
   "file_extension": ".py",
   "mimetype": "text/x-python",
   "name": "python",
   "nbconvert_exporter": "python",
   "pygments_lexer": "ipython3",
   "version": "3.10.6"
  }
 },
 "nbformat": 4,
 "nbformat_minor": 5
}
