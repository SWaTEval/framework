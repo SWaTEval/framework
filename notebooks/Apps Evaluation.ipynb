{
 "cells": [
  {
   "cell_type": "code",
   "execution_count": null,
   "id": "99ab5715",
   "metadata": {},
   "outputs": [],
   "source": [
    "import sys\n",
    "import json\n",
    "import os\n",
    "from tqdm import tqdm\n",
    "import sqlite3\n",
    "import pandas as pd\n",
    "import matplotlib.pyplot as plt\n",
    "from urllib.parse import urlparse\n",
    "import itertools\n",
    "\n",
    "from sklearn.metrics import f1_score\n",
    "from sklearn.metrics import confusion_matrix\n",
    "from sklearn.metrics import precision_score\n",
    "from sklearn.metrics import recall_score\n",
    "from sklearn.metrics import accuracy_score"
   ]
  },
  {
   "cell_type": "code",
   "execution_count": null,
   "id": "a551daf8",
   "metadata": {},
   "outputs": [],
   "source": [
    "sys.path.insert(0, '..') # Allow relative imports\n",
    "from scanner.Dataclasses.Response import Response\n",
    "from scanner.Dataclasses.Request import Request\n",
    "from scanner.Dataclasses.Endpoint import Endpoint\n",
    "from scanner.Dataclasses.Interaction import Interaction\n",
    "from scanner.Utilities.Util import set_config\n",
    "from scanner.Detection.ClusteringBased.Clustering.DBSCANClustering import DBSCANClustering"
   ]
  },
  {
   "cell_type": "markdown",
   "id": "6b95e0cb-3a28-47f4-a353-c45f5f3bc312",
   "metadata": {
    "tags": []
   },
   "source": [
    "# Download data"
   ]
  },
  {
   "cell_type": "markdown",
   "id": "d1d9c2bb",
   "metadata": {},
   "source": [
    "We use the data provided in:\n",
    "\n",
    "> Yandrapally, R., Stocco, A., and Mesbah, A. (2020). Near-\n",
    "duplicate detection in web app model inference. In\n",
    "ACM/IEEE 42nd international conference on software\n",
    "engineering, pages 186–197."
   ]
  },
  {
   "cell_type": "markdown",
   "id": "5fe824bf-8670-4faa-9053-1620dde841bb",
   "metadata": {},
   "source": [
    "Link to the paper: https://dl.acm.org/doi/pdf/10.1145/3377811.3380416\n",
    "\n",
    "Link to the paper repo: https://github.com/NDStudyICSE2019/NDStudy\n",
    "\n",
    "Dataset link: https://zenodo.org/record/3385377#.Y3SjkL7MKV4\n",
    "\n",
    "**Note:** The file is 36.9 GB large"
   ]
  },
  {
   "cell_type": "code",
   "execution_count": null,
   "id": "c2b7df66-4cf1-439b-8a21-3ed75e4bbaa9",
   "metadata": {},
   "outputs": [],
   "source": [
    "!wget htps://zenodo.org/record/3385377/files/Crawls_complete.7zt"
   ]
  },
  {
   "cell_type": "code",
   "execution_count": null,
   "id": "4ac7887d-7de8-45e8-b118-dc5eeca0db45",
   "metadata": {},
   "outputs": [],
   "source": [
    "!pip install py7zr -q\n",
    "!pip install zipfile -q"
   ]
  },
  {
   "cell_type": "code",
   "execution_count": null,
   "id": "c48e30e5-0823-4534-987d-08d791c05b02",
   "metadata": {},
   "outputs": [],
   "source": [
    "!py7zr x Crawls_complete.7z"
   ]
  },
  {
   "cell_type": "code",
   "execution_count": null,
   "id": "edd84210-94c5-4074-9d0e-93dc930ba23c",
   "metadata": {},
   "outputs": [],
   "source": [
    "from zipfile import ZipFile\n",
    "with ZipFile('./Crawls_complete/GroundTruthModels.zip') as fileobj:\n",
    "    fileobj.extractall()"
   ]
  },
  {
   "cell_type": "markdown",
   "id": "18b88975-60a4-4f35-bdd0-1fbe7cb47b7b",
   "metadata": {
    "tags": []
   },
   "source": [
    "# Function declaration"
   ]
  },
  {
   "cell_type": "code",
   "execution_count": null,
   "id": "adbb5aa9",
   "metadata": {},
   "outputs": [],
   "source": [
    "def load_db_as_dataframe(db_query):\n",
    "    db_loc = all_crawls_loc + '/gs.db'\n",
    "    db = sqlite3.connect(db_loc)    \n",
    "    df = pd.read_sql_query(db_query , db)\n",
    "    db.close()\n",
    "    return df"
   ]
  },
  {
   "cell_type": "code",
   "execution_count": null,
   "id": "c51dad11",
   "metadata": {},
   "outputs": [],
   "source": [
    "def load_file(file_location):\n",
    "    with open(file_location) as f:\n",
    "        file_content = f.read()\n",
    "    return file_content"
   ]
  },
  {
   "cell_type": "code",
   "execution_count": null,
   "id": "db2bfcb2",
   "metadata": {},
   "outputs": [],
   "source": [
    "def load_state_data(scan_path, state_name):\n",
    "    results_loc = scan_path + '/result.json'\n",
    "    results_data = load_file(results_loc)\n",
    "    results_data_json = json.loads(results_data)\n",
    "    states_data = results_data_json['states']\n",
    "    return states_data[state_name]"
   ]
  },
  {
   "cell_type": "code",
   "execution_count": null,
   "id": "5b9eb812",
   "metadata": {},
   "outputs": [],
   "source": [
    "def load_dom_data(scan_path, state_name):\n",
    "    dom_data_loc = scan_path + '/doms/' + state_name + '.html'\n",
    "    dom_data = load_file(dom_data_loc)\n",
    "    return dom_data"
   ]
  },
  {
   "cell_type": "code",
   "execution_count": null,
   "id": "0216825c",
   "metadata": {},
   "outputs": [],
   "source": [
    "def calculate_state_hash_ours(state_data, dom_data):\n",
    "    url = state_data['url']\n",
    "    created_at = state_data['timeAdded']\n",
    "\n",
    "    parsed_url = urlparse(url)\n",
    "    \n",
    "    # Parse the state as Interaction (from our pipleine) and return its hash\n",
    "    ep = Endpoint(host=parsed_url.netloc, \n",
    "                  path=parsed_url.path, \n",
    "                  state_id='', \n",
    "                  from_interaction_id='')\n",
    "    req = Request(endpoint=ep)\n",
    "    resp = Response(data=dom_data, code=200)\n",
    "    inter = Interaction(request=req, \n",
    "                        response=resp, \n",
    "                        state_id='')\n",
    "    return inter.hash"
   ]
  },
  {
   "cell_type": "code",
   "execution_count": null,
   "id": "aa3a87d2",
   "metadata": {},
   "outputs": [],
   "source": [
    "def get_state_names(app_crawl_path):\n",
    "    results_loc = app_crawl_path + '/result.json'\n",
    "    results_data = load_file(results_loc)\n",
    "    results_data_json = json.loads(results_data)\n",
    "    states_data = results_data_json['states']\n",
    "    state_names = list(states_data.keys())\n",
    "    return state_names"
   ]
  },
  {
   "cell_type": "code",
   "execution_count": null,
   "id": "adad9cfd",
   "metadata": {},
   "outputs": [],
   "source": [
    "def get_state_hash(app_crawl_path, state_name):\n",
    "    state_data = load_state_data(app_crawl_path, state_name)\n",
    "    dom_data = load_dom_data(app_crawl_path, state_name)\n",
    "    state_hash = calculate_state_hash_ours(state_data, dom_data)\n",
    "    return state_hash"
   ]
  },
  {
   "cell_type": "code",
   "execution_count": null,
   "id": "a62f9adc",
   "metadata": {},
   "outputs": [],
   "source": [
    "def get_state_index(clustering_input, state_name):\n",
    "    idx = 0\n",
    "    for state in clustering_input:\n",
    "        if state['name'] == state_name:\n",
    "            break\n",
    "        else:\n",
    "            idx += 1\n",
    "    return idx"
   ]
  },
  {
   "cell_type": "code",
   "execution_count": null,
   "id": "89e46776",
   "metadata": {},
   "outputs": [],
   "source": [
    "def find_state_pair_distance(metric_col_name, first_state, secondary_state):\n",
    "    db_query1 = f\"SELECT {metric_col_name} FROM nearduplicates WHERE appname='{app_name}' AND state1='{first_state}' AND state2='{secondary_state}';\"\n",
    "    db_query2 = f\"SELECT {metric_col_name} FROM nearduplicates WHERE appname='{app_name}' AND state1='{secondary_state}' AND state2='{first_state}';\"\n",
    "    df = load_db_as_dataframe(db_query1)\n",
    "    if len(df.index) == 0:\n",
    "        df = load_db_as_dataframe(db_query2)\n",
    "    assert len(df.index) == 1, f\"There is no state pair {state_pair} in the db\"\n",
    "    state_pair_query = df.iloc[0]\n",
    "    state_pair_distance = state_pair_query[metric_col_name]\n",
    "    return state_pair_distance"
   ]
  },
  {
   "cell_type": "code",
   "execution_count": null,
   "id": "bde970cf",
   "metadata": {},
   "outputs": [],
   "source": [
    "def generate_distance_matrix(app_crawl_path, metric_col_name):\n",
    "    state_names = get_state_names(app_crawl_path)\n",
    "    pairs_distance_matrix = []\n",
    "    for first_state in tqdm(state_names):\n",
    "        current_pair_distance_array = []\n",
    "        for secondary_state in state_names:\n",
    "            # Handle the case when the same state is checked (there is no data for this case in the DB, but we need it for the distance matrix)\n",
    "            if first_state == secondary_state:\n",
    "                distance = 0 # If we compare a state with itself it will have a distance of 0\n",
    "            else:\n",
    "                distance = find_state_pair_distance(metric_col_name, first_state, secondary_state)\n",
    "            current_pair_distance_array.append(distance)\n",
    "        pairs_distance_matrix.append(current_pair_distance_array)\n",
    "    distance_matrix = pd.DataFrame(pairs_distance_matrix, columns=state_names, index=state_names)\n",
    "    return distance_matrix, state_names"
   ]
  },
  {
   "cell_type": "code",
   "execution_count": null,
   "id": "daab072b",
   "metadata": {
    "tags": []
   },
   "outputs": [],
   "source": [
    "def run_DBSCAN_on_their_metrics(app_crawl_path, metric_col_name):\n",
    "    db_query = f\"SELECT state1, state2, {metric_col_name} FROM nearduplicates WHERE appname = '{app_name}';\"\n",
    "    df = load_db_as_dataframe(db_query)\n",
    "    dm, state_names = generate_distance_matrix(app_crawl_path, metric_col_name)\n",
    "    clustering = DBSCANClustering()\n",
    "    n_clusters, labels = clustering.cluster(dm, distance_type = \"precomputed\")    \n",
    "    \n",
    "    duplicate_state_pairs = []\n",
    "    for state_pair in state_pairs:\n",
    "        first_state_idx = state_names.index(state_pair[0])\n",
    "        first_state_label = labels[first_state_idx]\n",
    "    \n",
    "        second_state_idx = state_names.index(state_pair[1])\n",
    "        second_state_label = labels[second_state_idx]\n",
    "    \n",
    "        if first_state_label == second_state_label:\n",
    "            duplicate_state_pairs.append(state_pair)\n",
    "            \n",
    "    return duplicate_state_pairs"
   ]
  },
  {
   "cell_type": "code",
   "execution_count": null,
   "id": "7019035b",
   "metadata": {},
   "outputs": [],
   "source": [
    "def create_classified_bool_array(duplicate_state_pairs):\n",
    "    bool_array = []\n",
    "    for state_pair in state_pairs:\n",
    "        if state_pair in duplicate_state_pairs:\n",
    "            bool_array.append(True)\n",
    "        else:\n",
    "            bool_array.append(False)\n",
    "    return bool_array"
   ]
  },
  {
   "cell_type": "markdown",
   "id": "7c960512-7799-443a-ad9d-e85b5faf90eb",
   "metadata": {},
   "source": [
    "# Root dir and conifg definition"
   ]
  },
  {
   "cell_type": "code",
   "execution_count": null,
   "id": "4f8c625b-3d92-487b-aeae-9aeff0a32ee1",
   "metadata": {},
   "outputs": [],
   "source": [
    "all_crawls_loc = os.getcwd() + '/GroundTruthModels'\n",
    "config = {'random_seed':42}\n",
    "set_config(config)"
   ]
  },
  {
   "cell_type": "markdown",
   "id": "7b219adb-59e8-4525-a9ed-2ddbc5e408fb",
   "metadata": {
    "tags": []
   },
   "source": [
    "# Single app evaluation example"
   ]
  },
  {
   "cell_type": "code",
   "execution_count": null,
   "id": "340b093d-1f84-4b9a-ab23-25df45269013",
   "metadata": {},
   "outputs": [],
   "source": [
    "app_name = 'addressbook'"
   ]
  },
  {
   "cell_type": "code",
   "execution_count": null,
   "id": "4d2267c9",
   "metadata": {},
   "outputs": [],
   "source": [
    "craw_loc = f'/{app_name}/crawl-{app_name}-60min'"
   ]
  },
  {
   "cell_type": "code",
   "execution_count": null,
   "id": "64b85aa0",
   "metadata": {
    "tags": []
   },
   "outputs": [],
   "source": [
    "app_crawl_path = all_crawls_loc + craw_loc\n",
    "print(f'Full path to the app crawl: {app_crawl_path}')"
   ]
  },
  {
   "cell_type": "markdown",
   "id": "eb9dd73c",
   "metadata": {},
   "source": [
    "## Create data for our clustering algorithm\n",
    "\n",
    "The data should be a list of dictionaries, which contain at least a 'hash' key "
   ]
  },
  {
   "cell_type": "code",
   "execution_count": null,
   "id": "145e04c1",
   "metadata": {},
   "outputs": [],
   "source": [
    "clustering_input = list()\n",
    "state_names = get_state_names(app_crawl_path)\n",
    "for state_name in tqdm(state_names):\n",
    "        state_hash = get_state_hash(app_crawl_path, state_name)\n",
    "        clustering_input.append({'name': state_name, 'hash': state_hash})"
   ]
  },
  {
   "cell_type": "markdown",
   "id": "c42f25f5",
   "metadata": {
    "tags": []
   },
   "source": [
    "## Run DBSCAN clustering on the data"
   ]
  },
  {
   "cell_type": "code",
   "execution_count": null,
   "id": "cc81eaba",
   "metadata": {},
   "outputs": [],
   "source": [
    "from scanner.Detection.ClusteringBased.Clustering.DBSCANClustering import DBSCANClustering\n",
    "clustering_nativ = DBSCANClustering()\n",
    "n_clusters_nativ, labels_nativ = clustering_nativ.cluster(clustering_input, distance_type='tlsh', field_for_index='name')\n",
    "print(f'DBSCAN TLSH Nativ found {n_clusters_nativ} clusters')"
   ]
  },
  {
   "cell_type": "code",
   "execution_count": null,
   "id": "f166f223-5711-4b2f-a787-46065b0282a4",
   "metadata": {},
   "outputs": [],
   "source": [
    "clustering_hash2vec = DBSCANClustering()\n",
    "n_clusters_hash2vec, labels_hash2vec = clustering_hash2vec.cluster(clustering_input, distance_type='hash2vec', field_for_index='name')\n",
    "print(f'DBSCAN TLSH Hash2Vec found {n_clusters_hash2vec} clusters')"
   ]
  },
  {
   "cell_type": "markdown",
   "id": "46d2ad10",
   "metadata": {
    "tags": []
   },
   "source": [
    "## Create all state pairs as in the paper"
   ]
  },
  {
   "cell_type": "code",
   "execution_count": null,
   "id": "f341f118",
   "metadata": {},
   "outputs": [],
   "source": [
    "state_pairs = list(itertools.combinations(get_state_names(app_crawl_path),2))"
   ]
  },
  {
   "cell_type": "markdown",
   "id": "1ef56820",
   "metadata": {},
   "source": [
    "## Find all of the duplicates using our method\n",
    "\n",
    "Note: We don't have multiple duplicate classes, but only binary decision i.e. are two states in the same cluster or not."
   ]
  },
  {
   "cell_type": "code",
   "execution_count": null,
   "id": "63cd2bd0-7e07-42d3-8fec-f5a10bfc86c3",
   "metadata": {},
   "outputs": [],
   "source": [
    "our_duplicates_dbscan_tlsh_nativ = []\n",
    "for state_pair in tqdm(state_pairs):\n",
    "    first_state_idx = get_state_index(clustering_input, state_pair[0])\n",
    "    first_state_label = labels_nativ[first_state_idx]\n",
    "    \n",
    "    second_state_idx = get_state_index(clustering_input, state_pair[1])\n",
    "    second_state_label = labels_nativ[second_state_idx]\n",
    "    \n",
    "    if first_state_label == second_state_label:\n",
    "        our_duplicates_dbscan_tlsh_nativ.append(state_pair)\n",
    "\n",
    "print(f'Duplicates found with our TLSH nativ method: {len(our_duplicates_dbscan_tlsh_nativ)}')"
   ]
  },
  {
   "cell_type": "code",
   "execution_count": null,
   "id": "b76fe322-24f6-4f5b-84bd-847e881dbe1a",
   "metadata": {},
   "outputs": [],
   "source": [
    "our_duplicates_dbscan_tlsh_hash2vec = []\n",
    "for state_pair in tqdm(state_pairs):\n",
    "    first_state_idx = get_state_index(clustering_input, state_pair[0])\n",
    "    first_state_label = labels_hash2vec[first_state_idx]\n",
    "    \n",
    "    second_state_idx = get_state_index(clustering_input, state_pair[1])\n",
    "    second_state_label = labels_hash2vec[second_state_idx]\n",
    "    \n",
    "    if first_state_label == second_state_label:\n",
    "        our_duplicates_dbscan_tlsh_hash2vec.append(state_pair)\n",
    "\n",
    "print(f'Duplicates found with our TLSH Hash2Vec method: {len(our_duplicates_dbscan_tlsh_hash2vec)}')"
   ]
  },
  {
   "cell_type": "markdown",
   "id": "fbe5aa90",
   "metadata": {},
   "source": [
    "## Extract all duplicates from the DB (thiers method)\n",
    "\n",
    "Note: We get all of the state pairs that are labeled 0 or 1 i.e clones or near duplicates"
   ]
  },
  {
   "cell_type": "code",
   "execution_count": null,
   "id": "d3260c73",
   "metadata": {},
   "outputs": [],
   "source": [
    "their_near_duplicate_class_label = 1\n",
    "their_clone_class_label = 0\n",
    "\n",
    "searched_class_labels = [their_clone_class_label, their_near_duplicate_class_label]"
   ]
  },
  {
   "cell_type": "markdown",
   "id": "fdbe754b",
   "metadata": {},
   "source": [
    "We query all of the rows that corespond to the app currently being processed"
   ]
  },
  {
   "cell_type": "code",
   "execution_count": null,
   "id": "7adb1f82",
   "metadata": {
    "scrolled": true
   },
   "outputs": [],
   "source": [
    "their_duplicates_gs = []\n",
    "for state_pair in tqdm(state_pairs):\n",
    "    first_state = state_pair[0]\n",
    "    secondary_state = state_pair[1]\n",
    "    \n",
    "    db_query1 = f\"SELECT HUMAN_CLASSIFICATION FROM nearduplicates WHERE appname='{app_name}' AND state1='{first_state}' AND state2='{secondary_state}';\"\n",
    "    db_query2 = f\"SELECT HUMAN_CLASSIFICATION FROM nearduplicates WHERE appname='{app_name}' AND state1='{secondary_state}' AND state2='{first_state}';\"\n",
    "    df = load_db_as_dataframe(db_query1)\n",
    "    if len(df.index) == 0:\n",
    "        df = load_db_as_dataframe(db_query2)\n",
    "        \n",
    "    assert len(df.index) == 1, f\"There is no state pair {state_pair} in the db\"\n",
    "    state_pair_query = df.iloc[0]\n",
    "    \n",
    "    if state_pair_query['HUMAN_CLASSIFICATION'] in searched_class_labels:\n",
    "        their_duplicates_gs.append(state_pair)"
   ]
  },
  {
   "cell_type": "code",
   "execution_count": null,
   "id": "aa3f22ce",
   "metadata": {},
   "outputs": [],
   "source": [
    "print(f'Duplicates classfied by their people: {len(their_duplicates_gs)}')"
   ]
  },
  {
   "cell_type": "markdown",
   "id": "3c10dc11",
   "metadata": {},
   "source": [
    "## Mixed approach\n",
    "\n",
    "Now let's try to run DBSCAN using the distance metricsprovided in their database.\n",
    "For this case we're gonna use the precomputed distance option for cluster calculation, because we only have the pairwise distance between all states."
   ]
  },
  {
   "cell_type": "markdown",
   "id": "07c66598",
   "metadata": {
    "tags": []
   },
   "source": [
    "## Evaluate the app on all metrics"
   ]
  },
  {
   "cell_type": "code",
   "execution_count": null,
   "id": "ecaf4928",
   "metadata": {},
   "outputs": [],
   "source": [
    "metric_col_names = [\"DOM_RTED\", \"DOM_Levenshtein\", \"DOM_contentHash\", \"DOM_SIMHASH\", \"VISUAL_BlockHash\", \"VISUAL_PHash\", \"VISUAL_Hyst\", \"VISUAL_PDiff\", \"VISUAL_SIFT\", \"VISUAL_SSIM\"]"
   ]
  },
  {
   "cell_type": "code",
   "execution_count": null,
   "id": "4913e860",
   "metadata": {},
   "outputs": [],
   "source": [
    "results = pd.DataFrame()\n",
    "results['state1'] = [i[0] for i in state_pairs]\n",
    "results['state2'] = [i[1] for i in state_pairs]"
   ]
  },
  {
   "cell_type": "code",
   "execution_count": null,
   "id": "574242b8",
   "metadata": {},
   "outputs": [],
   "source": [
    "for metric_col_name in metric_col_names:\n",
    "    metric_duplicates = run_DBSCAN_on_their_metrics(app_crawl_path, metric_col_name)\n",
    "    results[metric_col_name] = create_classified_bool_array(metric_duplicates) "
   ]
  },
  {
   "cell_type": "code",
   "execution_count": null,
   "id": "03ad8dfc",
   "metadata": {},
   "outputs": [],
   "source": [
    "results['TLSH_nativ'] = create_classified_bool_array(our_duplicates_dbscan_tlsh_nativ)\n",
    "results['TLSH_hash2vec'] = create_classified_bool_array(our_duplicates_dbscan_tlsh_hash2vec)\n",
    "results['Human'] = create_classified_bool_array(their_duplicates_gs)"
   ]
  },
  {
   "cell_type": "code",
   "execution_count": null,
   "id": "704d2101",
   "metadata": {},
   "outputs": [],
   "source": [
    "results"
   ]
  },
  {
   "cell_type": "code",
   "execution_count": null,
   "id": "087a92c6",
   "metadata": {},
   "outputs": [],
   "source": [
    "results.to_csv(f'out_{app_name}.csv', index=False)"
   ]
  },
  {
   "cell_type": "markdown",
   "id": "c9897b44",
   "metadata": {
    "tags": []
   },
   "source": [
    "## Calculate metrics"
   ]
  },
  {
   "cell_type": "code",
   "execution_count": null,
   "id": "ec04290d",
   "metadata": {},
   "outputs": [],
   "source": [
    "evaluation = results.drop(['state1','state2'], axis=1).astype(int)"
   ]
  },
  {
   "cell_type": "code",
   "execution_count": null,
   "id": "3f4a9d88",
   "metadata": {},
   "outputs": [],
   "source": [
    "y_true = evaluation.iloc[:,-1] # Extract the human classified labels"
   ]
  },
  {
   "cell_type": "code",
   "execution_count": null,
   "id": "536e1403",
   "metadata": {},
   "outputs": [],
   "source": [
    "y_pred_matrix = evaluation.iloc[:,0:len(evaluation.columns)-1] # Extract the classified labels"
   ]
  },
  {
   "cell_type": "code",
   "execution_count": null,
   "id": "331d71f6",
   "metadata": {},
   "outputs": [],
   "source": [
    "eval_results = pd.DataFrame()\n",
    "\n",
    "for metric in y_pred_matrix.columns:\n",
    "    y_pred = y_pred_matrix[metric]\n",
    "    f1 = f1_score(y_true, y_pred)\n",
    "    accuracy = accuracy_score(y_true, y_pred)\n",
    "    precision = precision_score(y_true, y_pred)\n",
    "    recall = recall_score(y_true, y_pred)\n",
    "    tn, fp, fn, tp = confusion_matrix(y_true, y_pred).ravel()\n",
    "    \n",
    "    row = pd.Series({'TP':tp,'TN':tn,'FP':fp,'FN':fn,'Accuracy': accuracy, 'Recall':recall, 'Precision': precision, 'F1':f1},name=metric)\n",
    "    \n",
    "    eval_results = eval_results.append(row)"
   ]
  },
  {
   "attachments": {
    "image.png": {
     "image/png": "[encoded data removed]"
    }
   },
   "cell_type": "markdown",
   "id": "dc83c137",
   "metadata": {},
   "source": [
    "![image.png](attachment:image.png)"
   ]
  },
  {
   "cell_type": "code",
   "execution_count": null,
   "id": "a18abbe8",
   "metadata": {},
   "outputs": [],
   "source": [
    "eval_results"
   ]
  },
  {
   "cell_type": "markdown",
   "id": "fb970cf0-09e1-4aed-9037-f78c01b999e6",
   "metadata": {
    "tags": []
   },
   "source": [
    "# Run the evaluation on all app data"
   ]
  },
  {
   "cell_type": "code",
   "execution_count": null,
   "id": "44e1458d-fa58-48ef-8851-3fa11d45255c",
   "metadata": {},
   "outputs": [],
   "source": [
    "app_names = load_db_as_dataframe('SELECT name from apps').iloc[:,0].tolist()"
   ]
  },
  {
   "cell_type": "code",
   "execution_count": null,
   "id": "04ce81f9-256f-4081-ba99-9f31f3e15032",
   "metadata": {},
   "outputs": [],
   "source": [
    "metric_col_names = [\"DOM_RTED\", \"DOM_Levenshtein\", \"DOM_contentHash\", \"DOM_SIMHASH\", \"VISUAL_BlockHash\", \"VISUAL_PHash\", \"VISUAL_Hyst\", \"VISUAL_PDiff\", \"VISUAL_SIFT\", \"VISUAL_SSIM\"]"
   ]
  },
  {
   "cell_type": "code",
   "execution_count": null,
   "id": "0d5b2e88-2475-47d4-a98e-8e3fdd2611a4",
   "metadata": {},
   "outputs": [],
   "source": [
    "output_dir = 'app evaluation data'"
   ]
  },
  {
   "cell_type": "code",
   "execution_count": null,
   "id": "bae6bfe3-eee1-4f83-889e-98ee4f206836",
   "metadata": {},
   "outputs": [],
   "source": [
    "from scanner.Detection.ClusteringBased.Clustering.DBSCANClustering import DBSCANClustering\n",
    "clustering_nativ = DBSCANClustering()\n",
    "clustering_hash2vec = DBSCANClustering()\n",
    "\n",
    "for app_name in app_names:\n",
    "    print(f'Evaluating app: {app_name}')\n",
    "    crawl_path = f'/{app_name}/crawl-{app_name}-60min'\n",
    "    app_crawl_path = all_crawls_loc + crawl_path\n",
    "    \n",
    "    state_pairs = list(itertools.combinations(get_state_names(app_crawl_path),2))\n",
    "    \n",
    "    clustering_input = list()\n",
    "    state_names = get_state_names(app_crawl_path)\n",
    "    for state_name in tqdm(state_names):\n",
    "        state_hash = get_state_hash(app_crawl_path, state_name)\n",
    "        clustering_input.append({'name': state_name, 'hash': state_hash})\n",
    "        \n",
    "    n_clusters_nativ, labels_nativ = clustering_nativ.cluster(clustering_input, distance_type='tlsh', field_for_index='name')\n",
    "    print(f'DBSCAN TLSH Nativ found {n_clusters_nativ} clusters')\n",
    "    \n",
    "    n_clusters_hash2vec, labels_hash2vec = clustering_hash2vec.cluster(clustering_input, distance_type='hash2vec', field_for_index='name')\n",
    "    print(f'DBSCAN TLSH Hash2Vec found {n_clusters_hash2vec} clusters')\n",
    "    \n",
    "    our_duplicates_dbscan_tlsh_nativ = []\n",
    "    for state_pair in tqdm(state_pairs):\n",
    "        first_state_idx = get_state_index(clustering_input, state_pair[0])\n",
    "        first_state_label = labels_nativ[first_state_idx]\n",
    "        \n",
    "        second_state_idx = get_state_index(clustering_input, state_pair[1])\n",
    "        second_state_label = labels_nativ[second_state_idx]\n",
    "        \n",
    "        if first_state_label == second_state_label:\n",
    "            our_duplicates_dbscan_tlsh_nativ.append(state_pair)\n",
    "            \n",
    "    our_duplicates_dbscan_tlsh_hash2vec = []\n",
    "    for state_pair in tqdm(state_pairs):\n",
    "        first_state_idx = get_state_index(clustering_input, state_pair[0])\n",
    "        first_state_label = labels_hash2vec[first_state_idx]\n",
    "        \n",
    "        second_state_idx = get_state_index(clustering_input, state_pair[1])\n",
    "        second_state_label = labels_hash2vec[second_state_idx]\n",
    "        \n",
    "        if first_state_label == second_state_label:\n",
    "            our_duplicates_dbscan_tlsh_hash2vec.append(state_pair)\n",
    "    \n",
    "\n",
    "    their_near_duplicate_class_label = 1\n",
    "    their_clone_class_label = 0\n",
    "    \n",
    "    searched_class_labels = [their_clone_class_label, their_near_duplicate_class_label]\n",
    "    \n",
    "    their_duplicates_gs = []\n",
    "    for state_pair in tqdm(state_pairs):\n",
    "        first_state = state_pair[0]\n",
    "        secondary_state = state_pair[1]\n",
    "        \n",
    "        db_query1 = f\"SELECT HUMAN_CLASSIFICATION FROM nearduplicates WHERE appname='{app_name}' AND state1='{first_state}' AND state2='{secondary_state}';\"\n",
    "        db_query2 = f\"SELECT HUMAN_CLASSIFICATION FROM nearduplicates WHERE appname='{app_name}' AND state1='{secondary_state}' AND state2='{first_state}';\"\n",
    "        df = load_db_as_dataframe(db_query1)\n",
    "        if len(df.index) == 0:\n",
    "            df = load_db_as_dataframe(db_query2)\n",
    "            \n",
    "        assert len(df.index) == 1, f\"There is no state pair {state_pair} in the db\"\n",
    "        state_pair_query = df.iloc[0]\n",
    "        \n",
    "        if state_pair_query['HUMAN_CLASSIFICATION'] in searched_class_labels:\n",
    "            their_duplicates_gs.append(state_pair)\n",
    "    \n",
    "    \n",
    "    results = pd.DataFrame()\n",
    "    results['state1'] = [i[0] for i in state_pairs]\n",
    "    results['state2'] = [i[1] for i in state_pairs]\n",
    "    \n",
    "    for metric_col_name in metric_col_names:\n",
    "        metric_duplicates = run_DBSCAN_on_their_metrics(app_crawl_path, metric_col_name)\n",
    "        results[metric_col_name] = create_classified_bool_array(metric_duplicates) \n",
    "    \n",
    "    results['TLSH_nativ'] = create_classified_bool_array(our_duplicates_dbscan_tlsh_nativ)\n",
    "    results['TLSH_hash2vec'] = create_classified_bool_array(our_duplicates_dbscan_tlsh_hash2vec)\n",
    "    results['Human'] = create_classified_bool_array(their_duplicates_gs)\n",
    "    \n",
    "    if not os.path.exists(output_dir):\n",
    "        os.makedirs(output_dir)\n",
    "    \n",
    "    results.to_csv(f'{output_dir}/out_{app_name}.csv', index=False)\n",
    "    \n",
    "    evaluation = results.drop(['state1','state2'], axis=1).astype(int)\n",
    "    y_true = evaluation.iloc[:,-1] # Extract the human classified labels\n",
    "    y_pred_matrix = evaluation.iloc[:,0:len(evaluation.columns)-1] # Extract the classified labels\n",
    "    \n",
    "    eval_results = pd.DataFrame()\n",
    "\n",
    "    for metric in y_pred_matrix.columns:\n",
    "        y_pred = y_pred_matrix[metric]\n",
    "        f1 = f1_score(y_true, y_pred)\n",
    "        accuracy = accuracy_score(y_true, y_pred)\n",
    "        precision = precision_score(y_true, y_pred)\n",
    "        recall = recall_score(y_true, y_pred)\n",
    "        tn, fp, fn, tp = confusion_matrix(y_true, y_pred).ravel()\n",
    "        \n",
    "        row = pd.Series({'TP':tp,'TN':tn,'FP':fp,'FN':fn,'Accuracy': accuracy, 'Recall':recall, 'Precision': precision, 'F1':f1},name=metric)\n",
    "        \n",
    "        eval_results = eval_results.append(row)\n",
    "\n",
    "print('Done')"
   ]
  }
 ],
 "metadata": {
  "kernelspec": {
   "display_name": "Python 3 (ipykernel)",
   "language": "python",
   "name": "python3"
  },
  "language_info": {
   "codemirror_mode": {
    "name": "ipython",
    "version": 3
   },
   "file_extension": ".py",
   "mimetype": "text/x-python",
   "name": "python",
   "nbconvert_exporter": "python",
   "pygments_lexer": "ipython3",
   "version": "3.8.13"
  }
 },
 "nbformat": 4,
 "nbformat_minor": 5
}
